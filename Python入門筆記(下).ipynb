{
  "nbformat": 4,
  "nbformat_minor": 0,
  "metadata": {
    "colab": {
      "name": "Python入門筆記(下)",
      "provenance": [],
      "toc_visible": true,
      "collapsed_sections": [],
      "authorship_tag": "ABX9TyOncQ/1+pd2zSl0QBI4oBLt",
      "include_colab_link": true
    },
    "kernelspec": {
      "name": "python3",
      "display_name": "Python 3"
    },
    "language_info": {
      "name": "python"
    }
  },
  "cells": [
    {
      "cell_type": "markdown",
      "metadata": {
        "id": "view-in-github",
        "colab_type": "text"
      },
      "source": [
        "<a href=\"https://colab.research.google.com/github/Brritany/Getting-started-with-Python-using-Google-colab/blob/main/Python%E5%85%A5%E9%96%80%E7%AD%86%E8%A8%98(%E4%B8%8B).ipynb\" target=\"_parent\"><img src=\"https://colab.research.google.com/assets/colab-badge.svg\" alt=\"Open In Colab\"/></a>"
      ]
    },
    {
      "cell_type": "markdown",
      "source": [
        "# Python入門筆記(下)\n",
        "# Getting-started-with-Python-using-Google-colab\n",
        "___\n",
        "## Author\n",
        "> __Yong-Zhen, Huang__  \n",
        "huang.d841130@gmail.com  \n",
        "create on August 2022\n",
        "\n",
        "___\n"
      ],
      "metadata": {
        "id": "Z16PYwutFyPi"
      }
    },
    {
      "cell_type": "markdown",
      "source": [
        "# 一、模組(Module)和套件(Package)\n",
        "  1. 模組(Module)\n",
        "    * 一種檔案，內部包含一些使用性較高的代碼，從一些大型程式的代碼塊中，將高頻使用的代碼取出後，建立新的檔案來形成模組(Module)，透過匯入(import)的方式來使用。\n",
        "    * 模組(Module)可以提高程式碼的重用性(Reusable)並且因為代碼量較少，更易於維護。\n",
        "    * 任何一個以 .py為副檔名的python代碼都可視為模組(Module)。\n",
        "  2. 套件(Package)\n",
        "    * 將相似的模組放在同一個資料夾中，即稱為套件(Package)\n",
        "    * 官方文件定義中，任何含有\b__init__.py的資料夾，即可稱為套件(Packeage)。\n",
        "    * 任何Python均可將自己的模塊集合形成套件，甚至可以將優秀/好用的套件上傳到[PyPI](https://pypi.org/)中，供大家使用。\n",
        "    "
      ],
      "metadata": {
        "id": "ZvnK8gsDGZyY"
      }
    },
    {
      "cell_type": "markdown",
      "source": [
        "# 二、open用法\n",
        "\n"
      ],
      "metadata": {
        "id": "D5uDd3LPRHXD"
      }
    },
    {
      "cell_type": "markdown",
      "source": [
        "## 語法\n",
        "    with open('檔案名稱', '模式(r,a,w), '編碼') as f:\n",
        "        f.檔案處理函式()\n",
        "\n",
        "\n",
        "```\n",
        "f = open(\"檔案名稱\", mode=\"模式(a,w,r)\",encoding=\"utf-8 或 cp950\")\n",
        "```\n",
        "\n",
        "\n",
        "* 檔案名稱：設定檔案的名稱，它是字串型態。  \n",
        "* 模式：設定檔案開啟的模式，省略將預設為讀取模式。  \n",
        "    * r\t：讀取模式，此為預設模式。  \n",
        "    * a\t：附加模式，若檔案已存在，內容會被附加至檔案尾。    \n",
        "    * w\t：寫入模式，若檔案已存在，內容將會被覆蓋。  \n",
        "    * b ：二進位模式\n",
        "* 編碼：指定檔案的編碼模式，一般可設定`cp950`或`UTF-8` (大小寫都可以)。\n",
        "* 模式a, w下，若【檔案不存在】，則會直接新增該檔案。"
      ],
      "metadata": {
        "id": "V1net8kIdRA2"
      }
    },
    {
      "cell_type": "markdown",
      "source": [
        "## 常見檔案處理函式\n",
        "> 查看檔案編碼\n",
        "```\n",
        "import locale\n",
        "locale.getpreferredencoding()\n",
        "```\n",
        "\n",
        "> 檔案處理\n",
        "```\n",
        "> close()，關閉檔案，停止這個檔案的更動或寫入\n",
        "> read([size])，讀取指定[size]的字元，未指定則默認整個檔案。\n",
        "> readable()，測試可否讀取。\n",
        "> readline([size])，讀取指定[size]長度的文字內容，未指定則默認一整列，包含'\\n'\n",
        "> readline()，讀取所有列，回傳一個串列。\n",
        "> next()，移動到下一列。\n",
        "> seel(0)，將指標移到文件最前端。\n",
        "> tell()，傳回文件目前位置。\n",
        "> write(str)，將指定字串寫入文件中。\n",
        "> writeable()，測試可否寫入。\n",
        "```"
      ],
      "metadata": {
        "id": "R6-kTrkjc97m"
      }
    },
    {
      "cell_type": "markdown",
      "source": [
        "### 範例1"
      ],
      "metadata": {
        "id": "aYuJg-Znc5N1"
      }
    },
    {
      "cell_type": "code",
      "source": [
        "# 文字檔案讀寫的範例\n",
        "#使用模式w, a下，無檔案時會自動新增檔案\n",
        "f = open(\"data1.txt\", mode=\"w\",encoding=\"utf-8\")\n",
        "f.write('one line...')\n",
        "f.close()\n",
        "\n",
        "f = open(\"data1.txt\", mode=\"a\",encoding=\"utf-8\")\n",
        "f.write('two line---')\n",
        "f.close()\n",
        "\n",
        "f = open(\"data1.txt\", mode=\"r\",encoding=\"utf-8\")\n",
        "print(f.read())\n",
        "f.close()"
      ],
      "metadata": {
        "id": "MKozSUfOZnl6"
      },
      "execution_count": null,
      "outputs": []
    },
    {
      "cell_type": "markdown",
      "source": [
        "### 範例2"
      ],
      "metadata": {
        "id": "j-50CccidVio"
      }
    },
    {
      "cell_type": "code",
      "source": [
        "# 常見寫入錯誤\n",
        "\n",
        "f = open('a.txt', 'w')\n",
        "f.write('111')\n",
        "f.write('aadf')\n",
        "# 此時會發現檔案內容未被寫入\n",
        "\n",
        "\n",
        "# f.close() #用於關閉檔案，停止檔案更動或寫入內容 "
      ],
      "metadata": {
        "id": "KVd8nZ8Sc4gZ"
      },
      "execution_count": null,
      "outputs": []
    },
    {
      "cell_type": "code",
      "source": [
        "# 不須使用close()的情況\n",
        "with open('b.txt', 'a') as f:\n",
        "    f.write('123')\n",
        "    f.write('abc')\n"
      ],
      "metadata": {
        "id": "gCDAAHXYhlS9"
      },
      "execution_count": null,
      "outputs": []
    },
    {
      "cell_type": "markdown",
      "source": [
        "# 三、import用法\n",
        "  * 用於將**內建模組、第三方模組、自建模組**匯入到程式中來使用。\n",
        "\n",
        "\n",
        "```\n",
        "import 模組名稱\n",
        "\n",
        "模組名稱.函式\n",
        "```\n",
        "\n"
      ],
      "metadata": {
        "id": "qvzhT9keyrlX"
      }
    },
    {
      "cell_type": "code",
      "source": [
        "# 以math為例，內部函式有包括ceil, floor...函式\n",
        "\n",
        "import math #即可匯入模組(包函全部函式)"
      ],
      "metadata": {
        "id": "b9X0zV0Mz2Kj"
      },
      "execution_count": null,
      "outputs": []
    },
    {
      "cell_type": "markdown",
      "source": [
        "## 匯入模組中指定函式：from...import...\n",
        "  * 通常一個模組裡面具有許多函式，若只需要特定某幾個函式則可使用此方法進行匯入。\n",
        "\n",
        "\n",
        "```\n",
        "from 模組名稱 import 模組函式1, 模組函式2...\n",
        "```\n",
        "\n"
      ],
      "metadata": {
        "id": "FD6kTibCzK_w"
      }
    },
    {
      "cell_type": "code",
      "execution_count": null,
      "metadata": {
        "id": "heWkc0tTFuPf"
      },
      "outputs": [],
      "source": [
        "from math import abs, round, ceil, floor\n",
        "\n",
        "# abs \n",
        "# 回傳( )中的「絕對值」\n",
        "a = abs(-3.14159) \n",
        "\n",
        "# round(x, y)\n",
        "# 回傳四捨五入後的x值，y為四捨五入後的小數點數，若未輸入y，則默認四捨五入後的只保留整數值。\n",
        "b = round(3.14159)\n",
        "c = round(3.14159,3)\n",
        "\n",
        "# ceil\n",
        "# 無條件進位\n",
        "d = ceil(3.14159)\n",
        "\n",
        "# floor\n",
        "# 無條件捨去\n",
        "e = floor(3.14159)\n",
        "\n",
        "print(\"a=\",a) #絕對值\n",
        "print(\"b=\",b) #四捨五入後只取整數\n",
        "print(\"c=\",c) #四捨五入後取整數+所要求之小數點數\n",
        "print(\"d=\",d) #無條件進位\n",
        "print(\"e=\",e) #無條件捨去"
      ]
    },
    {
      "cell_type": "markdown",
      "source": [
        "## 模組別名的使用：as\n",
        "  * 常用於一些模組名稱過長，導致後續程式引用不方便。\n",
        "\n",
        "\n",
        "```\n",
        "import 模組名稱 as 自訂別名\n",
        "```\n",
        "\n"
      ],
      "metadata": {
        "id": "DiRLCv0WB-Uf"
      }
    },
    {
      "cell_type": "code",
      "source": [
        "import math as m\n",
        "\n",
        "m.ceil(3.4578) #使用自訂別名m調用ceil函式"
      ],
      "metadata": {
        "id": "6bD1J3_kCb0K"
      },
      "execution_count": null,
      "outputs": []
    },
    {
      "cell_type": "markdown",
      "source": [
        "# 四、亂數模組：random\n",
        "\n"
      ],
      "metadata": {
        "id": "HRkveciBEDGB"
      }
    },
    {
      "cell_type": "markdown",
      "source": [
        "## 介紹\n",
        "  * 用來建立亂數模組，常見函式如下\n",
        "\n",
        "```\n",
        "import random as r\n",
        "\n",
        "# random()，從0-1之間隨機取一浮點數(float)\n",
        "r.random()\n",
        "\n",
        "# randint(n1,n2)，從n1-n2之間隨機取一整數(int)\n",
        "r.randint(1,100)\n",
        "\n",
        "# randrange(n1,n2,n3)，從n1-n之間，每隔n3的數隨機取一整數(int)\n",
        "r.randrange(1,100,2)\n",
        "\n",
        "# uniform(f1,f2)，從f1-f2之間隨機取一浮點數(float)\n",
        "r.uniform(1,2)\n",
        "\n",
        "# choice(字串)，從字串中隨機取一字符\n",
        "r.choice('apple')\n",
        "\n",
        "# sample(字串,n)，從字串中隨機取n個字符\n",
        "r.sample('apple',2)\n",
        "\n",
        "# shuffle(串列)，將串列隨機排列\n",
        "list = [20, 113, 35, 1]\n",
        "r.shuffle(list)\n",
        "print('隨機後結果：', list)\n",
        "\n",
        "```"
      ],
      "metadata": {
        "id": "TewR_w46P3xE"
      }
    },
    {
      "cell_type": "markdown",
      "source": [
        "### 習題1 終極密碼\n",
        "  * 使用random模塊，設計1-100的亂數，使用者自行輸入數字進行猜題，每次猜題後系統需提供猜測值太大或太小，使用者猜中數字則程式結束，反之則繼續，直到猜中為止，猜題結束後輸出使用者猜題次數。"
      ],
      "metadata": {
        "id": "RpCrkgqwEJ1y"
      }
    },
    {
      "cell_type": "code",
      "source": [
        "import random # 匯入random模塊\n",
        "num = random.randint(1,100) #設定亂數產生之範圍，1-100\n",
        "print(num) #偷看一下正確答案，可用 # 隱藏答案\n",
        "\n",
        "count = 1 #記數(計算猜題次數)\n",
        "while True: #不管怎們樣都成立，使用break來跳出無限迴圈\n",
        "  print(\"第\",count,\"次猜測\") #猜題次數\n",
        "  guess = input('終極密碼0到100請猜數字: ') #讓使用者自行輸入數字，並給予輸入方式\n",
        "\n",
        "# try, except用法，用於排除使用者輸入非數字時的報錯\n",
        "  try:\n",
        "    guess = int(guess)\n",
        "  except:\n",
        "    print(\"輸入錯誤，請輸入數字\")\n",
        "    continue\n",
        "\n",
        "# 透過if, elif, else，使其對猜題時範圍做出提示\n",
        "  if guess == num:\n",
        "    print('猜題次數',count, '次', \"恭喜答對!! 數字的確是 \",num)\n",
        "    break\n",
        "  elif 0 < guess < num:\n",
        "    print(\"猜錯囉，你猜的太小了\")\n",
        "  elif 100 > guess > num:\n",
        "    print(\"猜錯囉，你猜的太大了\")\n",
        "  else:\n",
        "    print(\"數字超出範圍\")\n",
        "  count = count + 1 #count值做累加"
      ],
      "metadata": {
        "id": "zRWg7BurEOXF"
      },
      "execution_count": null,
      "outputs": []
    },
    {
      "cell_type": "markdown",
      "source": [
        "### 習題2 擲骰子\n",
        "  * 使用random模塊設計一程式\n",
        "    1. 使其按下【Enter】便可直出骰子點數\n",
        "    2. 輸入其他內容則不執行程式但遊戲繼續\n",
        "    3. 輸入【end】則遊戲結束。"
      ],
      "metadata": {
        "id": "iE_eDrbzYNhL"
      }
    },
    {
      "cell_type": "code",
      "source": [
        "# 使用randonm.randint擲骰子\n",
        "import random as r\n",
        "\n",
        "while True:\n",
        "  num = input(\"按下【Enter】開始擲骰子，輸入【end】則退出程式\")\n",
        "  if num == \"\":         #設定使用者按下【Enter】則開始程式運行\n",
        "    num = r.randint(1,6)     #randint(n1,n2)為取n1-n2之間隨機一整數\n",
        "    print(\"請骰出的數字為\", num)\n",
        "  elif num == \"end\":       #使用者輸入【end】程式結束\n",
        "    print('程式結束')\n",
        "    break\n",
        "  else:\n",
        "    continue           #使用者輸入其他內容，程式不執行但繼續\n"
      ],
      "metadata": {
        "id": "zQa21h0XYjdN"
      },
      "execution_count": null,
      "outputs": []
    },
    {
      "cell_type": "code",
      "source": [
        "# 使用randonm.choice用於特殊符號擲骰子⚀⚁⚂⚃⚄⚅\n",
        "import random as r\n",
        "\n",
        "while True:\n",
        "  num = input(\"按下【Enter】開始擲骰子，輸入【end】則退出程式\")\n",
        "  if num == \"\":          #設定使用者按下【Enter】則開始程式運行\n",
        "    num = r.choice('⚀⚁⚂⚃⚄⚅') #choice('字串內容')可取字串中隨機一符號\n",
        "    print(\"請骰出的數字為\", num)\n",
        "  elif num == \"end\":       #使用者輸入【end】程式結束\n",
        "    print('程式結束')\n",
        "    break\n",
        "  else:\n",
        "    continue           #使用者輸入其他內容，程式不執行但繼續"
      ],
      "metadata": {
        "id": "2dX9TQyebDL1"
      },
      "execution_count": null,
      "outputs": []
    },
    {
      "cell_type": "markdown",
      "source": [
        "### 習題3 威力彩電腦選號\n",
        "  * 使用random模塊設計一程式\n",
        "    1. 使用者按下【Enter】開始程式\n",
        "      * 先從01-38的號碼中任選6個號碼\n",
        "      * 在從01-08的號碼中任選1個號碼\n",
        "      * 將前六碼由小到大進行排序並加上特別號一起輸出並結束程式\n",
        "    2. 使用者輸入【end】離開程式\n",
        "    3. 使用者輸入其他內容則程式不執行但繼續\n"
      ],
      "metadata": {
        "id": "GwmCx9yUcu7y"
      }
    },
    {
      "cell_type": "code",
      "source": [
        "import random as r\n",
        "\n",
        "while True:\n",
        "  num = input(\"按下【Enter】開始開獎，輸入【end】則退出程式\")\n",
        "  if num == \"\":\n",
        "    list1 = r.sample(range(1,39),6)  #從1-38取任6數\n",
        "    list2 = r.sample(range(1,9),1)  #從1-8取任1數\n",
        "    list1.sort()               #將取到的6數由小到大排序\n",
        "    print(\"威力彩前六個號碼為\",list1,\"特別號為\",list2)\n",
        "    break\n",
        "  elif num == \"end\":       #使用者輸入【end】程式結束\n",
        "    print('程式結束')\n",
        "    break\n",
        "  else:\n",
        "    continue           #使用者輸入其他內容，程式不執行但繼續"
      ],
      "metadata": {
        "id": "MzvKqbTydQf3"
      },
      "execution_count": null,
      "outputs": []
    },
    {
      "cell_type": "markdown",
      "source": [
        "# 五、時間模組：time"
      ],
      "metadata": {
        "id": "I7bnLsncldn4"
      }
    },
    {
      "cell_type": "markdown",
      "source": [
        "## 介紹\n",
        "  1. 取得目前系統時間\n",
        "  2. 計算兩事件經過時間\n",
        "  3. 計算程式運行時間\n",
        "\n",
        "```\n",
        "import time as t\n",
        "\n",
        "# clock()，取得程式運行花費的時間\n",
        "t.clock()\n",
        "\n",
        "# ctime()，取得當下時間，以字串格式輸出\n",
        "t.ctime()\n",
        "\n",
        "# localtime()，取得使用者時區的時間資訊，將其回傳成元組資料型態\n",
        "t.localtime()\n",
        "\n",
        "# sleep(n) 程式停止運行n秒\n",
        "t.sleep(n)\n",
        "\n",
        "# time()，取得從1970年1月1日，共經過多少微秒(百萬分之一秒)，為float，精確到小數點第6位\n",
        "t.time()\n",
        "\n",
        "```\n"
      ],
      "metadata": {
        "id": "rBu2ynxtQK2D"
      }
    },
    {
      "cell_type": "markdown",
      "source": [
        "## t.ctime()用法\n",
        "  * 與localtime相同，唯一不同在於t.ctime()回傳值為**字串**。\n",
        "\n",
        "\n",
        "  * 回傳內容為，型態為**字串**。\n",
        "```\n",
        "星期  月份  日期  小時:分鐘:秒數  西元年\n",
        "```\n",
        "\n"
      ],
      "metadata": {
        "id": "N3jcqCFcx7_V"
      }
    },
    {
      "cell_type": "code",
      "source": [
        "import time as t\n",
        "\n",
        "total = t.ctime() #全部內容\n",
        "\n",
        "#運用串列概念，取得年月日等資料\n",
        "year = t.ctime()[-4:]\n",
        "mon = t.ctime()[4:7]\n",
        "\n",
        "print(total)\n",
        "print(year)\n",
        "print(mon)"
      ],
      "metadata": {
        "id": "oTn4vp3qws0p"
      },
      "execution_count": null,
      "outputs": []
    },
    {
      "cell_type": "markdown",
      "source": [
        "## t.localtime()用法\n",
        "  * 用於取得使用者時區的時間資訊，將其回傳成**元組資料型態**\n",
        "  * 回傳內容為，型態為**元組**。\n",
        "\n",
        "\n",
        "```\n",
        "time.struct_time(西元年,月份,日期,小時,分鐘,秒數,星期,一年中第幾天,是否為時光節約時間)\n",
        "```\n",
        "\n",
        "\n",
        "```\n",
        "tm_year   0   西元年\n",
        "tm_mon    1   月份(1-12)\n",
        "tm_mday   2   日期(1-31)\n",
        "tm_hour   3   小時(0-23)\n",
        "tm_min    4   分鐘(0-59)\n",
        "tm_sec    5   秒數(0-60，可能為閏秒)\n",
        "tm_wday   6   星期(0-6，星期一為0...星期日為6)\n",
        "tm_yday   7   一年中的第幾天(366，可能為閏年))\n",
        "tm_isdst  8   時光節約時間(1為有時光節約，0為無)\n",
        "```\n",
        "\n"
      ],
      "metadata": {
        "id": "mSWWlAknyeQw"
      }
    },
    {
      "cell_type": "code",
      "source": [
        "# 範例1\n",
        "import time as t\n",
        "\n",
        "time1 = t.localtime()\n",
        "\n",
        "print(time1.tm_year)  #使用 變數名.名稱\n",
        "print(time1[0])       #使用 元組方式 變數名[數值0-8]"
      ],
      "metadata": {
        "id": "WCjQf5Skz3pe"
      },
      "execution_count": null,
      "outputs": []
    },
    {
      "cell_type": "markdown",
      "source": [
        "### 習題1 程式運行時間計算\n",
        "  1. 計算以下代碼運行時間\n",
        " \n",
        "```\n",
        "for i in range(100):\n",
        "  t.sleep(0.01)\n",
        "```\n",
        "  2. 輸出(print)：\n",
        "    * 開始時間\n",
        "    * 結束時間\n",
        "    * 運行時間\n",
        "    * 使用3種命令參數格式化進行輸出\n",
        "\n"
      ],
      "metadata": {
        "id": "aKVyG6OYs3Wd"
      }
    },
    {
      "cell_type": "code",
      "source": [
        "import time as t\n",
        "\n",
        "start = t.time()\n",
        "for i in range(100): #運行i 100次\n",
        "  t.sleep(0.01)       #每運行一次休息0.01秒\n",
        "\n",
        "end = t.time()\n",
        "\n",
        "print('開始時間:{}'.format(start)) #命令參數格式化 (format)\n",
        "print(f'結束時間:' ,(end))          #命令參數格式化 (f)\n",
        "print('經過時間: %d' % (end-start), '秒') #命令參數格式化 (%)"
      ],
      "metadata": {
        "id": "ZZc8T7zLoD33"
      },
      "execution_count": null,
      "outputs": []
    },
    {
      "cell_type": "markdown",
      "source": [
        "### 習題2 使用localtime取得時間"
      ],
      "metadata": {
        "id": "peL_ZzYO3o9X"
      }
    },
    {
      "cell_type": "code",
      "source": [
        "import time as t\n",
        "\n",
        "today = t.localtime()\n",
        "# print(today)\n",
        "\n",
        "myear = int(today.tm_year) - 1911 #西元轉民國\n",
        "\n",
        "print('現在時刻為民國{}年{}月{}日'.format(myear, today.tm_mon, today.tm_mday))"
      ],
      "metadata": {
        "id": "p2O9RuQB32c0"
      },
      "execution_count": null,
      "outputs": []
    },
    {
      "cell_type": "markdown",
      "source": [
        "# 六、檔案及目錄管理模組：os, os.path, os.walk"
      ],
      "metadata": {
        "id": "DDdjpzO7Frl2"
      }
    },
    {
      "cell_type": "markdown",
      "source": [
        "## 介紹os\n",
        "  * 日常中有需多時候都需要處理檔案、資料，常見用於操作檔案及目錄的模組有os, glob, shutil等。\n",
        "  * 用於取得工作目錄、建立目錄、刪除目錄、刪除檔案、執行作業系統命令等函式。\n",
        "\n",
        "  * 常見函式如下\n",
        "```\n",
        "import os\n",
        "os.getcwd()                     #取得目前工作目錄\n",
        "os.remove(\"檔案名.格式型態\")     #刪除指定檔案\n",
        "os.mkdir(\"目錄名\")              #建立指定目錄\n",
        "os.rmdir(\"目錄名\")              #刪除指定目錄，刪除目錄前須刪除該目錄的檔案\n",
        "os.system()                     #執行系統命令\n",
        "```\n",
        "  * 檔案(file)\n",
        "  * 目錄(folder)\n"
      ],
      "metadata": {
        "id": "vF8khnLbQiq-"
      }
    },
    {
      "cell_type": "code",
      "source": [
        "import os\n",
        "os.getcwd() #取地目前工作目錄位置\n",
        "\n",
        "#colab預設目錄位置為 /content"
      ],
      "metadata": {
        "id": "91fQ5KQ9HDoa"
      },
      "execution_count": null,
      "outputs": []
    },
    {
      "cell_type": "code",
      "source": [
        "# os.remove(\"檔案名.檔案型態\") #刪除檔案\n",
        "# os.mkdir('第一層目錄') #建立單層目錄，無法建立多層\n",
        "# os.rmdir('第一層目錄') #刪除單層目錄，無法刪除多層目錄\n",
        "# os.makedirs('第一層目錄/第二層目錄') #建立多層目錄"
      ],
      "metadata": {
        "id": "qzpqsrV6KtVe"
      },
      "execution_count": null,
      "outputs": []
    },
    {
      "cell_type": "code",
      "source": [
        "# build a file\n",
        "\n",
        "#建立hello.py檔案\n",
        "%%writefile hello.py\n",
        "\n",
        "#下方輸入要新增檔案代碼\n",
        "print('hello')"
      ],
      "metadata": {
        "id": "5wqBYaA5KtkV"
      },
      "execution_count": null,
      "outputs": []
    },
    {
      "cell_type": "code",
      "source": [
        "# 執行檔案文件\n",
        "%run hello.py"
      ],
      "metadata": {
        "id": "XyNdITtzOHcO"
      },
      "execution_count": null,
      "outputs": []
    },
    {
      "cell_type": "markdown",
      "source": [
        "## 介紹os.path\n",
        "  1. 處理檔案路徑、名稱\n",
        "  2. 檢查檔案路徑、名稱是否存在\n",
        "  3. 計算檔案大小\n",
        "\n",
        "\n",
        "```\n",
        "import os.path\n",
        "\n",
        "os.path.abspath()       #回傳檔案完整路徑名稱\n",
        "os.path.basename()      #回傳檔名/路徑名稱\n",
        "os.path.dirname()       #回傳指定檔案完整目錄路徑的\n",
        "os.path.exists()        #檢查指定路徑/檔案是否存在\n",
        "os.path.getmtime()      #回傳最近文件修改時間\n",
        "os.path.getctime()      #回傳文件創建時間\n",
        "os.path.getsize()       #回傳文件大小(Bytes)\n",
        "os.path.isabs()         #檢查指定路徑是否為完整路徑名稱\n",
        "os.path.isfile()        #檢查指定路徑是否為檔案\n",
        "os.path.isdir()         #檢查指定路徑是否為目錄\n",
        "os.path.join()          #將路徑和檔案名結合為完整路徑\n",
        "```\n",
        "\n"
      ],
      "metadata": {
        "id": "pWhMlAJ3Pw21"
      }
    },
    {
      "cell_type": "code",
      "source": [
        "import os.path\n",
        "\n",
        "os.path.exists('hello.py') #存在True, 不存在Flase"
      ],
      "metadata": {
        "id": "m_OcQI9gSUyN"
      },
      "execution_count": null,
      "outputs": []
    },
    {
      "cell_type": "code",
      "source": [
        "# 建立與刪除目錄folder\n",
        "\n",
        "import os, os.path #導入多個模塊時，使用逗號,隔開模塊名稱\n",
        "\n",
        "dir = 'dir1'\n",
        "if os.path.exists(dir):\n",
        "  os.rmdir(dir)\n",
        "  print(dir, '目錄已刪除')\n",
        "else:\n",
        "  os.mkdir(dir)\n",
        "  print(dir, \"目錄已建立\")"
      ],
      "metadata": {
        "id": "7MEiRo6PUp29"
      },
      "execution_count": null,
      "outputs": []
    },
    {
      "cell_type": "code",
      "source": [
        "# 刪除檔案file\n",
        "\n",
        "import os, os.path #導入多個模塊時，使用逗號,隔開模塊名稱\n",
        "\n",
        "test1 = 'test1.py'\n",
        "if os.path.exists(test1):\n",
        "  os.remove(test1)\n",
        "  print(test1, '檔案已刪除')\n",
        "else:\n",
        "  print(\"檔案不存在\")"
      ],
      "metadata": {
        "id": "07Pz9gZ1Vq2h"
      },
      "execution_count": null,
      "outputs": []
    },
    {
      "cell_type": "code",
      "source": [
        "# 合併及分割檔案路徑join, split\n",
        "\n",
        "import os.path, os\n",
        "\n",
        "file = 'hello.py'\n",
        "file = os.path.join(os.getcwd(), file) #合併路徑\n",
        "file\n",
        "\n",
        "file = os.path.split(file) #分割路徑\n",
        "file"
      ],
      "metadata": {
        "id": "kHbByDAN41ou"
      },
      "execution_count": null,
      "outputs": []
    },
    {
      "cell_type": "markdown",
      "source": [
        "### 習題1 寫段代碼建立myDir目錄\n",
        "  * 在目錄中手動建立myFfile.py檔案\n",
        "  * 使用代碼顯示myFile.py路徑\n",
        "  * 使用代碼顯示檔案大小"
      ],
      "metadata": {
        "id": "b-88DhSm6kSG"
      }
    },
    {
      "cell_type": "code",
      "source": [
        "# 建立myDir目錄\n",
        "import os, os.path\n",
        "\n",
        "dir = os.mkdir('myDir')\n",
        "print(\"檔案存在\")"
      ],
      "metadata": {
        "id": "e4bbzw936rJF"
      },
      "execution_count": null,
      "outputs": []
    },
    {
      "cell_type": "code",
      "source": [
        "# 使用代碼顯示myFile.py路徑\n",
        "# 使用代碼顯示檔案大小\n",
        "\n",
        "import os, os.path\n",
        "\n",
        "file = '/content/myDir/myFile.py'\n",
        "if os.path.exists(file):          #檢查檔案是否存在\n",
        "  print(os.path.abspath(file))    #輸出檔案路徑\n",
        "  print(os.path.getsize(file))    #輸出檔案大小，因為檔案無代碼，故輸出為0\n",
        "else:\n",
        "  print(\"檔案不存在\")"
      ],
      "metadata": {
        "id": "BgkvBlwG8knS"
      },
      "execution_count": null,
      "outputs": []
    },
    {
      "cell_type": "markdown",
      "source": [
        "## 介紹os.walk\n",
        "  * 搜尋指定目錄及其子目錄，並且可回傳包含3個元素的**元組：**\n",
        "    * 資料夾名稱、下一層資料夾串列、資料夾中所有檔案串列"
      ],
      "metadata": {
        "id": "badetJaLJNrG"
      }
    },
    {
      "cell_type": "code",
      "source": [
        "# 下載 Google 雲端硬碟的 oswalk.zip 並解壓縮\n",
        "\n",
        "!gdown '1PbhNT4duXnW1L8WYpKpmctxuU1G2mDKX' --output oswalk.zip\n",
        "!unzip oswalk.zip"
      ],
      "metadata": {
        "id": "WeAMBiWZbNvV"
      },
      "execution_count": null,
      "outputs": []
    },
    {
      "cell_type": "markdown",
      "source": [
        "### os.walk 常用功能"
      ],
      "metadata": {
        "id": "B8R1Y2Ml9arq"
      }
    },
    {
      "cell_type": "code",
      "source": [
        "import os\n",
        "cur_path = \"/content/oswalk\" #檔案路徑\n",
        "sample_tree = os.walk(cur_path)\n",
        "for dirname, subdir, files in sample_tree: #dirname, subdir, files不可省略\n",
        "  # print('檔案路徑' ,dirname)\n",
        "  # print('目錄串列' ,subdir)\n",
        "  print('檔案串列',files)       #最常使用，檔案串列files"
      ],
      "metadata": {
        "id": "pHnGbSX29YwX"
      },
      "execution_count": null,
      "outputs": []
    },
    {
      "cell_type": "markdown",
      "source": [
        "### 習題1 計算os.walk目錄及其子目錄共有幾個 .txt。"
      ],
      "metadata": {
        "id": "MT7jtBKmAa7C"
      }
    },
    {
      "cell_type": "code",
      "source": [
        "import os\n",
        "cur_path = \"/content/oswalk\" #檔案路徑\n",
        "sample_tree = os.walk(cur_path)\n",
        "n = 0 #計算檔案數量\n",
        "for dirname, subdir, files in sample_tree: #dirname, subdir, files不可省略\n",
        " for filen in files:    #巢狀迴圈，變數filen於files中\n",
        "   if '.txt' in filen:  #假設.txt存在於filen中\n",
        "     n = n + 1    #計算.txt個數\n",
        "\n",
        "print(\"oswalk共有{}個.txt的檔案\".format(n))\n"
      ],
      "metadata": {
        "id": "JwZy5zGyAXXI"
      },
      "execution_count": null,
      "outputs": []
    },
    {
      "cell_type": "markdown",
      "source": [
        "## 介紹glob\n",
        "  * 可以取得製指定條件下的檔案，以串列方式輸出\n",
        "  * 路徑名稱可明確指定，也可使用`*`萬用字元\n",
        "  * 只能抓出一層檔案夾中的檔案。"
      ],
      "metadata": {
        "id": "tZIADWkaDNhM"
      }
    },
    {
      "cell_type": "markdown",
      "source": [
        "### 習題1 取的所有oswalk檔案中的 .txt 及 .jpg 檔案"
      ],
      "metadata": {
        "id": "LghueQhNEXLN"
      }
    },
    {
      "cell_type": "code",
      "source": [
        "import glob as g\n",
        "\n",
        "photo = g.glob(\"images/*.jpg\")\n",
        "txt1 = g.glob(\"oswalk/*.txt\")\n",
        "txt2 = g.glob(\"oswalk/Dir/*.txt\")\n",
        "oswalk_file = g.glob(\"oswalk/*\")  #使用*抓取oswalk中全部檔案\n",
        "\n",
        "print(\"images檔案中有以下圖片檔{}\".format(photo))\n",
        "print(\"oswalk檔案中有以下文件檔{}\".format(txt1))\n",
        "print(\"oswalk/Dir檔案中有以下文件檔{}\".format(txt2))\n",
        "print(\"oswalk檔案中有以下檔案{}\".format(oswalk_file))"
      ],
      "metadata": {
        "id": "SF0JCbOsERUe"
      },
      "execution_count": null,
      "outputs": []
    }
  ]
}