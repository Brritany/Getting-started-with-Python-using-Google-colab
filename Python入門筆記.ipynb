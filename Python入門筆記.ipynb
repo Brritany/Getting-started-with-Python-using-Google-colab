{
  "nbformat": 4,
  "nbformat_minor": 0,
  "metadata": {
    "celltoolbar": "Raw Cell Format",
    "editable": "false",
    "kernelspec": {
      "display_name": "Python 3",
      "language": "python",
      "name": "python3"
    },
    "language_info": {
      "codemirror_mode": {
        "name": "ipython",
        "version": 3
      },
      "file_extension": ".py",
      "mimetype": "text/x-python",
      "name": "python",
      "nbconvert_exporter": "python",
      "pygments_lexer": "ipython3",
      "version": "3.6.5"
    },
    "colab": {
      "name": "Python入門筆記",
      "provenance": [],
      "collapsed_sections": [],
      "toc_visible": true,
      "include_colab_link": true
    }
  },
  "cells": [
    {
      "cell_type": "markdown",
      "metadata": {
        "id": "view-in-github",
        "colab_type": "text"
      },
      "source": [
        "<a href=\"https://colab.research.google.com/github/Brritany/Getting-started-with-Python-using-Google-colab/blob/main/Python%E5%85%A5%E9%96%80%E7%AD%86%E8%A8%98.ipynb\" target=\"_parent\"><img src=\"https://colab.research.google.com/assets/colab-badge.svg\" alt=\"Open In Colab\"/></a>"
      ]
    },
    {
      "cell_type": "markdown",
      "metadata": {
        "id": "xcu_-8Tpa7cx"
      },
      "source": [
        "# Python入門筆記\n",
        "___\n",
        "## Author\n",
        "> __黃永鎮__  \n",
        "lindavid841130@gmail.com\n",
        "\n",
        "___\n"
      ]
    },
    {
      "cell_type": "markdown",
      "source": [
        "# 一、變數與資料型態"
      ],
      "metadata": {
        "id": "6DtVakhZTj7l"
      }
    },
    {
      "cell_type": "markdown",
      "metadata": {
        "id": "lvazVT4h4MY7"
      },
      "source": [
        "## 宣告變數\n",
        "  * 變數名稱只能由**大寫字母、數字、_、中文**組成變數名稱\n",
        "  * 變數名稱第一個字母**不能**是數字、特殊字元、空白字元\n",
        "  * 英文字母大寫視為不同變數名稱\n",
        "  * 變數名稱不能與Python內建的**保留字**相同\n",
        "\n",
        "保留字如下\n",
        "```\n",
        "  acos, and, array, asin, assert, atan\n",
        "  break, class, close, continue, cos, Data\n",
        "  def, del, e, elif, else, except\n",
        "  exec, exp, fabs, float, finally, floor\n",
        "  for, from, global, if, import, in\n",
        "  input, int, is, lambda, log, log10\n",
        "  not, open, or, pass, pi, print\n",
        "  raise, range, return, sin, sqrt, tan\n",
        "  try, type, while, write, zeros\n",
        "```"
      ]
    },
    {
      "cell_type": "code",
      "metadata": {
        "scrolled": false,
        "id": "lVcPWOFpa7c3",
        "outputId": "75270f47-6546-4859-a24e-dec1a3324278",
        "colab": {
          "base_uri": "https://localhost:8080/"
        }
      },
      "source": [
        "x = 0\n",
        "y = 1\n",
        "a = b = c = 20 # 相同值可以同時賦值\n",
        "age, name = 18, \"Lily\"\n",
        "\n",
        "print(x, y, a, b, c, age, name)"
      ],
      "execution_count": 1,
      "outputs": [
        {
          "output_type": "stream",
          "name": "stdout",
          "text": [
            "0 1 20 20 20 18 Lily\n"
          ]
        }
      ]
    },
    {
      "cell_type": "markdown",
      "metadata": {
        "id": "rEygeSaMa7c6"
      },
      "source": [
        "## 變數資料型態\n",
        "  * **整數(int)、浮點數(float)、字串(str)、布林(bool) True/False**\n",
        "  * 查看資料型態 `type()`\n",
        "  * 資料型態轉換 `int()`、`float()`、`str()`"
      ]
    },
    {
      "cell_type": "code",
      "metadata": {
        "scrolled": true,
        "id": "kRGyicfva7c7"
      },
      "source": [
        "age = 2\n",
        "justdoit = False\n",
        "name = \"David\"\n",
        "weight = 123.5\n",
        "zipcode = \"545\"\n",
        "\n",
        "# 測試資料型態\n",
        "print(type(age))\n",
        "print(type(justdoit))\n",
        "print(type(weight))\n",
        "print(type(zipcode))"
      ],
      "execution_count": null,
      "outputs": []
    },
    {
      "cell_type": "markdown",
      "source": [
        "# 二、輸出：print 命令"
      ],
      "metadata": {
        "id": "s3Ils7coTelx"
      }
    },
    {
      "cell_type": "markdown",
      "metadata": {
        "id": "O0KOyRE4a7c8"
      },
      "source": [
        "### print()的參數\n",
        "  * `sep=''` # ''中未填寫，默認空白字元\n",
        "  * `end=''` # ''未填寫，默認分行符號(\\n)\n",
        "  * `print()`顯示的字串可以使用 + 進行組合，但不同型別要先轉為文字"
      ]
    },
    {
      "cell_type": "code",
      "metadata": {
        "scrolled": true,
        "id": "1_3V9oCCa7c8"
      },
      "source": [
        "# 單筆輸出print()\n",
        "print(100, \"多吃水果\", True)\n",
        "\n",
        "print(100, \"多吃水果\", True, sep='&') # 空白字元變成&\n",
        "\n",
        "print(100, \"多吃水果\", True, sep='&', end='.') # 分行符號變成句點."
      ],
      "execution_count": null,
      "outputs": []
    },
    {
      "cell_type": "code",
      "source": [
        "# 多筆輸出print()\n",
        "print(100)\n",
        "print(\"吃水果\")\n",
        "print(False)\n",
        "\n",
        "# 輸出結果會自動分成3行，因為end=''默認使用分行符號(\\n)\n",
        "\n",
        "print(100, end='.')\n",
        "print(\"吃水果\")\n",
        "print(False)\n",
        "\n",
        "# 第2行輸出因加入end='.'，因此和第3行輸出呈現在同一列"
      ],
      "metadata": {
        "id": "yI4DsyEpRjEH"
      },
      "execution_count": null,
      "outputs": []
    },
    {
      "cell_type": "markdown",
      "source": [
        "### print()資料合併輸出\n",
        "  * 兩筆變數資料型態一致時可同時輸出`print(123 + 233)`\n",
        "  * 資料型態不同時，需先進行型態轉換"
      ],
      "metadata": {
        "id": "_Z0i_cZZV2l1"
      }
    },
    {
      "cell_type": "code",
      "source": [
        "print(123 + 233)\n",
        "print(\"ABCC\" + \"123\")"
      ],
      "metadata": {
        "colab": {
          "base_uri": "https://localhost:8080/"
        },
        "id": "9yCBT3tgWb_R",
        "outputId": "0d9a4fd4-291c-4c70-fb2a-202a9db8fde0"
      },
      "execution_count": 17,
      "outputs": [
        {
          "output_type": "stream",
          "name": "stdout",
          "text": [
            "356\n",
            "ABCC123\n"
          ]
        }
      ]
    },
    {
      "cell_type": "code",
      "source": [
        "print(\"123\" + 233)\n",
        "# TypeError: can only concatenate str (not \"int\") to str\n",
        "# 雖然123為數字，但因'' or \"\"會使123改變型態(change to str)"
      ],
      "metadata": {
        "id": "exTDuFxTWgZO"
      },
      "execution_count": null,
      "outputs": []
    },
    {
      "cell_type": "markdown",
      "metadata": {
        "id": "Um_xx_zAa7c9"
      },
      "source": [
        "### print 命令參數格式化 (%)\n",
        "\n",
        "    print(項目 % (參數列))\n",
        "\n",
        "* %s 字串, %d 數值, 預設靠右對齊\n",
        "* %3d 代表3位數字， %3s 代表3個文字字串\n",
        "* %-3d 或 %-3s 代表文字數字靠左對齊\n",
        "* %.2f 代表取2位小數，四捨五入\n",
        "* %6.2f 代表6位數字(3位整數,1位小數點,2位小數)"
      ]
    },
    {
      "cell_type": "code",
      "metadata": {
        "scrolled": true,
        "id": "VLE_bha6a7c-"
      },
      "source": [
        "print(\"%s的成績是%d分\" % (\"王小明\",80))\n",
        "print(\"%5s的成績是%3d分\" % (\"李小美\",90))\n",
        "print(\"%-5s的成績是%-3d分\" % (\"李小美\",90))\n",
        "print(\"我的BMI:%.2f\" % (18))\n",
        "print(\"我的BMI:%6.2f\" % (18))"
      ],
      "execution_count": null,
      "outputs": []
    },
    {
      "cell_type": "markdown",
      "metadata": {
        "id": "jXhQTtWNa7c_"
      },
      "source": [
        "### print 命令參數格式化 (format)\n",
        "    print(字串.format(參數列))\n",
        "\n",
        "* {}：參數位置，多個{}預設要以後方參數順序為準\n",
        "* {i}：指定插入參數的索引值，如{0}代表第1個\n",
        "* {i:格式化指定}：參考%的格式化指定"
      ]
    },
    {
      "cell_type": "code",
      "metadata": {
        "scrolled": true,
        "id": "HuAihVyca7dA"
      },
      "source": [
        "print(\"{}成績為{}\".format(\"王大山\", 75))\n",
        "print(\"{1}是{0}的成績\".format(\"王大山\", 75))\n",
        "print(\"{0:5s}成績為{1:.2f}\".format(\"王大山\", 75))"
      ],
      "execution_count": null,
      "outputs": []
    },
    {
      "cell_type": "markdown",
      "metadata": {
        "id": "93RR0usIa7dB"
      },
      "source": [
        "### print 命令參數格式化 (f)\n",
        "    print(f字串)\n",
        "變數在設定之後直接帶入字串之中"
      ]
    },
    {
      "cell_type": "code",
      "metadata": {
        "id": "ecfFqdCPa7dB"
      },
      "source": [
        "name = \"林明德\"\n",
        "score = 75\n",
        "print(f\"{name} 的成績為 {score}\")"
      ],
      "execution_count": null,
      "outputs": []
    },
    {
      "cell_type": "markdown",
      "source": [
        "# 三、輸入：input 命令"
      ],
      "metadata": {
        "id": "r78g4AzoXXXl"
      }
    },
    {
      "cell_type": "markdown",
      "metadata": {
        "id": "cs0vRvnCa7dC"
      },
      "source": [
        "### 變數 = input([提示字串])\n",
        "  * **由`input()`所接收的值最初型態永遠是字串(string)喔！**"
      ]
    },
    {
      "cell_type": "code",
      "metadata": {
        "id": "IXleykGla7dC",
        "colab": {
          "base_uri": "https://localhost:8080/"
        },
        "outputId": "f1db3f1b-fe79-4d52-a689-cbf7ecd8b88d"
      },
      "source": [
        "score = input(\"請輸入國文成績:\")\n",
        "print(score)\n",
        "print(\"你的國文分數是：\" + score)"
      ],
      "execution_count": 18,
      "outputs": [
        {
          "output_type": "stream",
          "name": "stdout",
          "text": [
            "請輸入國文成績:12\n",
            "12\n",
            "你的國文分數是：12\n"
          ]
        }
      ]
    },
    {
      "cell_type": "code",
      "metadata": {
        "id": "m7FGVywoa7dD"
      },
      "source": [
        "#資料型態錯誤\n",
        "scoreA = input(\"請輸入國文成績:\")\n",
        "scoreB = input(\"請輸入英文成績:\")\n",
        "scoreC = input(\"請輸入數學成績:\")\n",
        "total = scoreA + scoreB + scoreC\n",
        "print(total)\n",
        "print(\"你的總分數是：\" + total)"
      ],
      "execution_count": null,
      "outputs": []
    },
    {
      "cell_type": "code",
      "metadata": {
        "id": "GEl5ry2Ya7dD"
      },
      "source": [
        "#使用 int(), str()\n",
        "scoreA = int(input(\"請輸入國文成績:\"))\n",
        "scoreB = int(input(\"請輸入英文成績:\"))\n",
        "scoreC = int(input(\"請輸入數學成績:\"))\n",
        "total = str(scoreA + scoreB + scoreC)\n",
        "print(total)\n",
        "print(\"你的總分數是：\" + total)"
      ],
      "execution_count": null,
      "outputs": []
    },
    {
      "cell_type": "markdown",
      "metadata": {
        "id": "c_KTYJ3Ua7dE"
      },
      "source": [
        "# 四、運算子"
      ]
    },
    {
      "cell_type": "markdown",
      "source": [
        "### 算數類型\n",
        "  * 算術運算子：  \n",
        "    `+、-、*、/、% (餘數)、// (商)、**(指數/次方)`\n",
        "\n",
        "  * 比較運算子：比較兩邊的值，回傳(return)為布林值(bool)  \n",
        "    `==(兩邊是否相等)、!=(兩邊是否不相等)、>、>=、<、<=`\n",
        "\n",
        "  * 邏輯運算子：  \n",
        "    `not、and、or`\n",
        "\n",
        "  * 複合指定運算子：  \n",
        "    `+=、-=、*=、/=、%=(餘數)、//=(商)、**=(指數)`\n"
      ],
      "metadata": {
        "id": "Fw7mA91YdCpT"
      }
    },
    {
      "cell_type": "code",
      "metadata": {
        "id": "Z8xv1fyka7dE"
      },
      "source": [
        "# 數值運算\n",
        "a=5\n",
        "b=2\n",
        "print(a / b)  #除\n",
        "print(a % b)  #餘數\n",
        "print(a // b) #商數\n",
        "print(a ** b) #指數"
      ],
      "execution_count": null,
      "outputs": []
    },
    {
      "cell_type": "code",
      "source": [
        ""
      ],
      "metadata": {
        "id": "JwamEPxk4SNZ"
      },
      "execution_count": null,
      "outputs": []
    },
    {
      "cell_type": "code",
      "metadata": {
        "id": "Y1LeMNOta7dE"
      },
      "source": [
        "# 字串運算\n",
        "s=\"abcdefg\"\n",
        "print(s*2)\n",
        "print(s[0])\n",
        "print(s[1:5])\n",
        "print(s[:])\n",
        "print(s[1:])\n",
        "print(s[:1])"
      ],
      "execution_count": null,
      "outputs": []
    },
    {
      "cell_type": "code",
      "metadata": {
        "id": "imC3HOzva7dE"
      },
      "source": [
        "# 綜合運算\n",
        "\n",
        "x1 = \"a\"\n",
        "y1 = 3\n",
        "a = x1*y1 \n",
        "\n",
        "x2 = 6\n",
        "y2 = 3\n",
        "b = x2**y2\n",
        "\n",
        "x3 = 5\n",
        "y3 = 2\n",
        "c = x3/y3\n",
        "\n",
        "x4 = 7\n",
        "y4 = 5\n",
        "d = x4<y4\n",
        "\n",
        "print(\"a 的值為\", a, \"資料型態是\", type(a))\n",
        "print(\"b 的值為\", b, \"資料型態是\", type(b))\n",
        "print(\"c 的值為\", c, \"資料型態是\", type(c))\n",
        "print(\"d 的值為\", d, \"資料型態是\", type(d))"
      ],
      "execution_count": null,
      "outputs": []
    },
    {
      "cell_type": "markdown",
      "metadata": {
        "id": "pEKULHXma7dF"
      },
      "source": [
        "# 五、判斷式\n",
        "## 單向判斷式\n",
        "    if 條件式 :\n",
        "        程式區塊"
      ]
    },
    {
      "cell_type": "code",
      "metadata": {
        "id": "MW0TW009a7dF"
      },
      "source": [
        "score = int(input(\"請輸入你的分數：\"))\n",
        "if score >= 60:\n",
        "    print(\"恭禧你及格了！\")"
      ],
      "execution_count": null,
      "outputs": []
    },
    {
      "cell_type": "markdown",
      "metadata": {
        "id": "iHrVCb78a7dG"
      },
      "source": [
        "## 雙向判斷式\n",
        "    if 條件式：\n",
        "        程式區塊1\n",
        "    else:\n",
        "        程式區塊2"
      ]
    },
    {
      "cell_type": "code",
      "metadata": {
        "id": "iwjenSGLa7dG"
      },
      "source": [
        "score = int(input(\"請輸入你的分數：\"))\n",
        "if score >= 60:\n",
        "    print(\"恭禧你及格了！\")\n",
        "else:\n",
        "    print(\"天啊，你被當了！\")    "
      ],
      "execution_count": null,
      "outputs": []
    },
    {
      "cell_type": "markdown",
      "metadata": {
        "id": "PvlkZ7_oa7dG"
      },
      "source": [
        "        \n",
        "## 多向判斷式\n",
        "    if 條件式1：\n",
        "        程式區塊1\n",
        "    elif 條件式2:\n",
        "        程式區塊2\n",
        "    elif 條件式3:\n",
        "        程式區塊3\n",
        "    ...\n",
        "    else:\n",
        "        程式區塊4        "
      ]
    },
    {
      "cell_type": "code",
      "metadata": {
        "id": "dmmFdK5xa7dH"
      },
      "source": [
        "score = int(input(\"請輸入你的分數：\"))\n",
        "if score >= 90:\n",
        "    print(\"甲等\")\n",
        "elif score >= 80:\n",
        "    print(\"乙等\")    \n",
        "elif score >= 70:\n",
        "    print(\"丙等\")    \n",
        "elif score >= 60:\n",
        "    print(\"丁等\")        \n",
        "else:\n",
        "    print(\"你被當了！\")"
      ],
      "execution_count": null,
      "outputs": []
    },
    {
      "cell_type": "markdown",
      "metadata": {
        "id": "a2XkEYAOa7dH"
      },
      "source": [
        "# 六、自訂函式\n",
        "### 語法\n",
        "    def 函式名稱([參數1, 參數2, ……]):\n",
        "        程式區塊\n",
        "        [return 回傳值1, 回傳值2, ……]"
      ]
    },
    {
      "cell_type": "code",
      "metadata": {
        "id": "AEOWg3Rca7dH"
      },
      "source": [
        "# 建立名稱為 SayHello() 的函式，無回傳值\n",
        "\n",
        "def SayHello():\n",
        "    print( \"歡迎光臨!\")\n",
        "\n",
        "SayHello()"
      ],
      "execution_count": null,
      "outputs": []
    },
    {
      "cell_type": "code",
      "metadata": {
        "id": "YcS58qsLa7dH"
      },
      "source": [
        "# 建立名稱為 GetArea() 的函式，以參數傳入矩形的寬及高，計算矩形面積後將面積值傳回。\n",
        "\n",
        "def GetArea(width, height):\n",
        "    area = width * height\n",
        "    return area\n",
        "\n",
        "print(GetArea(5, 4))"
      ],
      "execution_count": null,
      "outputs": []
    },
    {
      "cell_type": "markdown",
      "metadata": {
        "id": "57ZESrZXa7dH"
      },
      "source": [
        "# 七、串列\n",
        "### 語法\n",
        "    串列名稱 = [元素1, 元素2, ……]"
      ]
    },
    {
      "cell_type": "code",
      "metadata": {
        "id": "ji6AXT01a7dI"
      },
      "source": [
        "list1 = [1, 2, 3, 4, 5]          #元素皆為整數\n",
        "list2 = [\"香蕉\", \"蘋果\", \"橘子\"]  #元素皆為字串\n",
        "list3 = [1, \"香蕉\", True]        #包含不同資料型態元素\n",
        "#list1"
      ],
      "execution_count": null,
      "outputs": []
    },
    {
      "cell_type": "markdown",
      "metadata": {
        "id": "8tpd-3Eba7dI"
      },
      "source": [
        "### 取得串列元素\n",
        "    元素值 = 串列名稱[索引值]\n",
        "    元素值 = 串列名稱[起始索引值:終止索引值]\n",
        "*索引值是從 0 開始計數，索引值不可超出串列的範圍。用「:」取得的串列範圍是由起始索引值到「終止索引值-1」。"
      ]
    },
    {
      "cell_type": "code",
      "metadata": {
        "id": "m9c7GRgfa7dI"
      },
      "source": [
        "list1 = [1, 2, 3, 4, 5]\n",
        "print(list1[0])\n",
        "# print(list1[1:4])   #元素值範圍\n",
        "# print(list1[:])     #由頭到尾\n",
        "# print(list1[-1])    #取出最後一個元素值"
      ],
      "execution_count": null,
      "outputs": []
    },
    {
      "cell_type": "markdown",
      "metadata": {
        "id": "VzsDkCeJa7dI"
      },
      "source": [
        "### range()整數串列\n",
        "    range(終止值)\n",
        "    range(起始值, 終止值, 間隔值)\n",
        "*產生的串列是起始值到「終止值 - 1」的串列"
      ]
    },
    {
      "cell_type": "code",
      "metadata": {
        "id": "e01AsyhHa7dI"
      },
      "source": [
        "list1 = range(5)        #[0,1,2,3,4]\n",
        "list2 = range(3, 8)     #[3,4,5,6,7]\n",
        "list3 = range(3, 8, 2)  #[3,5,7] 元素值每次增加2\n",
        "list4 = range(8, 3, -1) #[8,7,6,5,4] 間隔值可以是負值\n",
        "#list(list1)"
      ],
      "execution_count": null,
      "outputs": []
    },
    {
      "cell_type": "markdown",
      "metadata": {
        "id": "X26tbqyZa7dJ"
      },
      "source": [
        "# 八、迴圈\n",
        "### for 迴圈\n",
        "for 迴圈用於執行固定次數的動作\n",
        "\n",
        "    for 變數 in 串列:\t\n",
        "\t  程式區塊"
      ]
    },
    {
      "cell_type": "code",
      "metadata": {
        "id": "611_iSkCa7dJ"
      },
      "source": [
        "#顯示串列元素\n",
        "list1 = [\"香蕉\", \"蘋果\", \"橘子\"]\n",
        "for s in list1:\n",
        "    print(s) "
      ],
      "execution_count": null,
      "outputs": []
    },
    {
      "cell_type": "code",
      "metadata": {
        "id": "_adFzCW-a7dJ"
      },
      "source": [
        "#計算 1+2+…+10 之和\n",
        "sum = 0\n",
        "for i in range(1, 11):\n",
        "  sum += i\n",
        "print(sum)"
      ],
      "execution_count": null,
      "outputs": []
    },
    {
      "cell_type": "markdown",
      "metadata": {
        "id": "i4v3lbBAa7dJ"
      },
      "source": [
        "### while 迴圈\n",
        "while 迴圈用於執行次數不固定的迴圈。\n",
        "\n",
        "    while 條件式: \t\n",
        "\t  程式區塊"
      ]
    },
    {
      "cell_type": "code",
      "metadata": {
        "id": "obxcTgBOa7dK"
      },
      "source": [
        "#計算 1+2+…+10 之和\n",
        "total = n = 0\n",
        "while(n < 10):\n",
        "    n += 1\n",
        "    total += n\n",
        "print(total)"
      ],
      "execution_count": null,
      "outputs": []
    },
    {
      "cell_type": "markdown",
      "metadata": {
        "id": "-su6uhoFa7dK"
      },
      "source": [
        "### break 與 continue\n",
        "`break` 強制離開迴圈\n",
        "\n",
        "`continue` 在迴圈執行中途暫停不往下執行，而跳到迴圈起始處繼續執行"
      ]
    },
    {
      "cell_type": "code",
      "metadata": {
        "id": "_loaIU7Ja7dK"
      },
      "source": [
        "#break範例\n",
        "for i in range(1,11):\n",
        "    if(i==4):\n",
        "        break\n",
        "    print(i, end=\",\")\n",
        "print()\n",
        "\n",
        "#continue範例\n",
        "for i in range(1,11):\n",
        "    if(i==4):\n",
        "        continue\n",
        "    print(i, end=\",\") \n",
        "print()"
      ],
      "execution_count": null,
      "outputs": []
    },
    {
      "cell_type": "markdown",
      "metadata": {
        "id": "92R5k_lUa7dK"
      },
      "source": [
        "# 九、try…except…else…finally 例外處理\n",
        "\n",
        "### 語法\n",
        "    try:\n",
        "      程式碼A\n",
        "    except[例外狀況]:\n",
        "      程式碼B\n",
        "    ...\n",
        "    else:\n",
        "      程式碼C\n",
        "    finally:\n",
        "      程式碼D\n",
        "\n",
        "### 說明\n",
        "* 程式碼A：try 用來執行並進行例外偵測。\n",
        "* 程式碼B：except 若有發生例外時執行的程式。\n",
        "* 程式碼C：else 若沒有發生例外時執行的程式。\n",
        "* 程式碼D：finally 一定會執行的程式。\n",
        "* except 可設定多種例外狀況。若省略指定即代表一發生例外狀況即執行。\n",
        "* else、finally非必填。"
      ]
    },
    {
      "cell_type": "code",
      "metadata": {
        "id": "D3pUngjwa7dL"
      },
      "source": [
        "a = 11\n",
        "b = 5   # 可更改為 0 或 \"0\" 來觀察\n",
        "try:\n",
        "    print(a / b)\n",
        "except ZeroDivisionError:\n",
        "    print(\"ZeroDivisionError\") \n",
        "# except Exception as e:\n",
        "#     print(e)\n",
        "except:\n",
        "    print(\"except\")\n",
        "else:\n",
        "    print(\"else\")\n",
        "finally:\n",
        "    print(\"finally\")"
      ],
      "execution_count": null,
      "outputs": []
    },
    {
      "cell_type": "markdown",
      "source": [
        "# 十、註解"
      ],
      "metadata": {
        "id": "41yJKRWjZ0gq"
      }
    },
    {
      "cell_type": "markdown",
      "source": [
        "### 單行註解\n",
        "  * 使用**井字號**即可不運行程式、添加註解"
      ],
      "metadata": {
        "id": "oH3YgBUfZ6gr"
      }
    },
    {
      "cell_type": "markdown",
      "source": [
        "### 多行註解\n",
        "  * 於想要註解的代碼上下方，加入**連續3個單引號或雙引號**''' or \"\"\"，即可框選出所要區塊，即可不運行程式、添加註解"
      ],
      "metadata": {
        "id": "bj4wnOKpaQZA"
      }
    }
  ]
}