{
  "nbformat": 4,
  "nbformat_minor": 0,
  "metadata": {
    "celltoolbar": "Raw Cell Format",
    "editable": "false",
    "kernelspec": {
      "display_name": "Python 3",
      "language": "python",
      "name": "python3"
    },
    "language_info": {
      "codemirror_mode": {
        "name": "ipython",
        "version": 3
      },
      "file_extension": ".py",
      "mimetype": "text/x-python",
      "name": "python",
      "nbconvert_exporter": "python",
      "pygments_lexer": "ipython3",
      "version": "3.6.5"
    },
    "colab": {
      "name": "Python入門筆記(上)",
      "provenance": [],
      "collapsed_sections": [],
      "toc_visible": true,
      "include_colab_link": true
    }
  },
  "cells": [
    {
      "cell_type": "markdown",
      "metadata": {
        "id": "view-in-github",
        "colab_type": "text"
      },
      "source": [
        "<a href=\"https://colab.research.google.com/github/Brritany/Getting-started-with-Python-using-Google-colab/blob/main/Python%E5%85%A5%E9%96%80%E7%AD%86%E8%A8%98(%E4%B8%8A).ipynb\" target=\"_parent\"><img src=\"https://colab.research.google.com/assets/colab-badge.svg\" alt=\"Open In Colab\"/></a>"
      ]
    },
    {
      "cell_type": "markdown",
      "metadata": {
        "id": "xcu_-8Tpa7cx"
      },
      "source": [
        "# Python入門筆記(上)\n",
        "# Getting-started-with-Python-using-Google-colab\n",
        "___\n",
        "## Author\n",
        "> __黃永鎮__  \n",
        "lindavid841130@gmail.com  \n",
        "create on July 2022\n",
        "\n",
        "___\n"
      ]
    },
    {
      "cell_type": "markdown",
      "source": [
        "# 一、變數與資料型態"
      ],
      "metadata": {
        "id": "6DtVakhZTj7l"
      }
    },
    {
      "cell_type": "markdown",
      "metadata": {
        "id": "lvazVT4h4MY7"
      },
      "source": [
        "## 宣告變數\n",
        "  * 變數名稱只能由**大寫字母、數字、_、中文**組成變數名稱\n",
        "  * 變數名稱第一個字母**不能**是數字、特殊字元、空白字元\n",
        "  * 英文字母大寫視為不同變數名稱\n",
        "  * 變數名稱不能與Python內建的**保留字**相同\n",
        "\n",
        "保留字如下\n",
        "```\n",
        "  acos, and, array, asin, assert, atan\n",
        "  break, class, close, continue, cos, Data\n",
        "  def, del, e, elif, else, except\n",
        "  exec, exp, fabs, float, finally, floor\n",
        "  for, from, global, if, import, in\n",
        "  input, int, is, lambda, log, log10\n",
        "  not, open, or, pass, pi, print\n",
        "  raise, range, return, sin, sqrt, tan\n",
        "  try, type, while, write, zeros\n",
        "```"
      ]
    },
    {
      "cell_type": "code",
      "metadata": {
        "scrolled": false,
        "id": "lVcPWOFpa7c3"
      },
      "source": [
        "x = 0\n",
        "y = 1\n",
        "a = b = c = 20 # 相同值可以同時賦值\n",
        "age, name = 18, \"Lily\"\n",
        "\n",
        "print(x, y, a, b, c, age, name)"
      ],
      "execution_count": null,
      "outputs": []
    },
    {
      "cell_type": "markdown",
      "metadata": {
        "id": "rEygeSaMa7c6"
      },
      "source": [
        "## 變數資料型態\n",
        "  * **整數(int)、浮點數(float)、字串(str)、布林(bool) True/False**\n",
        "  * 查看資料型態 `type()`\n",
        "  * 資料型態轉換 `int()`、`float()`、`str()`\n",
        "  * 刪除變數(節省記憶體)`del 變數名稱`"
      ]
    },
    {
      "cell_type": "code",
      "metadata": {
        "scrolled": true,
        "id": "kRGyicfva7c7"
      },
      "source": [
        "age = 2\n",
        "justdoit = False\n",
        "name = \"David\"\n",
        "weight = 123.5\n",
        "zipcode = \"545\"\n",
        "\n",
        "# 測試資料型態\n",
        "print(type(age))\n",
        "print(type(justdoit))\n",
        "print(type(weight))\n",
        "print(type(zipcode))"
      ],
      "execution_count": null,
      "outputs": []
    },
    {
      "cell_type": "markdown",
      "source": [
        "# 二、輸出：print 命令"
      ],
      "metadata": {
        "id": "s3Ils7coTelx"
      }
    },
    {
      "cell_type": "markdown",
      "metadata": {
        "id": "O0KOyRE4a7c8"
      },
      "source": [
        "### print()的參數\n",
        "  * `sep=''` # ''中未填寫，默認空白字元\n",
        "  * `end=''` # ''未填寫，默認分行符號(\\n)\n",
        "  * `print()`顯示的字串可以使用 + 進行組合，但不同型別要先轉為文字"
      ]
    },
    {
      "cell_type": "code",
      "metadata": {
        "scrolled": true,
        "id": "1_3V9oCCa7c8"
      },
      "source": [
        "# 單筆輸出print()\n",
        "print(100, \"多吃水果\", True)\n",
        "\n",
        "print(100, \"多吃水果\", True, sep='&') # 空白字元變成&\n",
        "\n",
        "print(100, \"多吃水果\", True, sep='&', end='.') # 分行符號變成句點."
      ],
      "execution_count": null,
      "outputs": []
    },
    {
      "cell_type": "code",
      "source": [
        "# 多筆輸出print()\n",
        "print(100)\n",
        "print(\"吃水果\")\n",
        "print(False)\n",
        "\n",
        "# 輸出結果會自動分成3行，因為end=''默認使用分行符號(\\n)\n",
        "\n",
        "print(100, end='.')\n",
        "print(\"吃水果\")\n",
        "print(False)\n",
        "\n",
        "# 第2行輸出因加入end='.'，因此和第3行輸出呈現在同一列"
      ],
      "metadata": {
        "id": "yI4DsyEpRjEH"
      },
      "execution_count": null,
      "outputs": []
    },
    {
      "cell_type": "markdown",
      "source": [
        "### print()資料合併輸出\n",
        "  * 兩筆變數資料型態一致時可同時輸出`print(123 + 233)`\n",
        "  * 資料型態不同時，需先進行型態轉換"
      ],
      "metadata": {
        "id": "_Z0i_cZZV2l1"
      }
    },
    {
      "cell_type": "code",
      "source": [
        "print(123 + 233)\n",
        "print(\"ABCC\" + \"123\")"
      ],
      "metadata": {
        "colab": {
          "base_uri": "https://localhost:8080/"
        },
        "id": "9yCBT3tgWb_R",
        "outputId": "0d9a4fd4-291c-4c70-fb2a-202a9db8fde0"
      },
      "execution_count": null,
      "outputs": [
        {
          "output_type": "stream",
          "name": "stdout",
          "text": [
            "356\n",
            "ABCC123\n"
          ]
        }
      ]
    },
    {
      "cell_type": "code",
      "source": [
        "print(\"123\" + 233)\n",
        "# TypeError: can only concatenate str (not \"int\") to str\n",
        "# 雖然123為數字，但因'' or \"\"會使123改變型態(change to str)"
      ],
      "metadata": {
        "id": "exTDuFxTWgZO"
      },
      "execution_count": null,
      "outputs": []
    },
    {
      "cell_type": "markdown",
      "metadata": {
        "id": "Um_xx_zAa7c9"
      },
      "source": [
        "### print 命令參數格式化 (%)\n",
        "\n",
        "    print(項目 % (參數列))\n",
        "\n",
        "* %s 字串, %d 數值, 預設靠右對齊\n",
        "* %3d 代表3位數字， %3s 代表3個文字字串\n",
        "* %-3d 或 %-3s 代表文字數字靠左對齊\n",
        "* %.2f 代表取2位小數，四捨五入\n",
        "* %6.2f 代表6位數字(3位整數,1位小數點,2位小數)"
      ]
    },
    {
      "cell_type": "code",
      "metadata": {
        "scrolled": true,
        "id": "VLE_bha6a7c-",
        "colab": {
          "base_uri": "https://localhost:8080/"
        },
        "outputId": "915742b5-e25a-4005-86c5-9a8309a0552c"
      },
      "source": [
        "print(\"%s的成績是%d分\" % (\"王小明\",80))\n",
        "print(\"%5s的成績是%3d分\" % (\"李小美\",90))\n",
        "print(\"%-5s的成績是%-3d分\" % (\"李小美\",90))\n",
        "print(\"我的BMI:%.2f\" % (18))\n",
        "print(\"我的BMI:%6.2f\" % (18))"
      ],
      "execution_count": null,
      "outputs": [
        {
          "output_type": "stream",
          "name": "stdout",
          "text": [
            "王小明的成績是80分\n",
            "  李小美的成績是 90分\n",
            "李小美  的成績是90 分\n",
            "我的BMI:18.00\n",
            "我的BMI: 18.00\n"
          ]
        }
      ]
    },
    {
      "cell_type": "markdown",
      "metadata": {
        "id": "jXhQTtWNa7c_"
      },
      "source": [
        "### print 命令參數格式化 (format)\n",
        "    print(字串.format(參數列))\n",
        "\n",
        "* {}：參數位置，多個{}預設要以後方參數順序為準\n",
        "* {i}：指定插入參數的索引值，如{0}代表第1個\n",
        "* {i:格式化指定}：參考%的格式化指定"
      ]
    },
    {
      "cell_type": "code",
      "metadata": {
        "scrolled": true,
        "id": "HuAihVyca7dA",
        "colab": {
          "base_uri": "https://localhost:8080/"
        },
        "outputId": "20a0e9a0-0162-4aee-a5db-6d70db12a113"
      },
      "source": [
        "print(\"{}成績為{}\".format(\"王大山\", 75))\n",
        "print(\"{1}是{0}的成績\".format(\"王大山\", 75))\n",
        "print(\"{0:5s}成績為{1:.2f}\".format(\"王大山\", 75))"
      ],
      "execution_count": null,
      "outputs": [
        {
          "output_type": "stream",
          "name": "stdout",
          "text": [
            "王大山成績為75\n",
            "75是王大山的成績\n",
            "王大山  成績為75.00\n"
          ]
        }
      ]
    },
    {
      "cell_type": "markdown",
      "metadata": {
        "id": "93RR0usIa7dB"
      },
      "source": [
        "### print 命令參數格式化 (f)\n",
        "    print(f字串)\n",
        "變數在設定之後直接帶入字串之中"
      ]
    },
    {
      "cell_type": "code",
      "metadata": {
        "id": "ecfFqdCPa7dB",
        "colab": {
          "base_uri": "https://localhost:8080/"
        },
        "outputId": "2db62ca6-a521-4c08-9606-c394e55b0f43"
      },
      "source": [
        "name = \"林明德\"\n",
        "score = 75\n",
        "print(f\"{name} 的成績為 {score}\")"
      ],
      "execution_count": null,
      "outputs": [
        {
          "output_type": "stream",
          "name": "stdout",
          "text": [
            "林明德 的成績為 75\n"
          ]
        }
      ]
    },
    {
      "cell_type": "markdown",
      "source": [
        "# 三、輸入：input 命令"
      ],
      "metadata": {
        "id": "r78g4AzoXXXl"
      }
    },
    {
      "cell_type": "markdown",
      "metadata": {
        "id": "cs0vRvnCa7dC"
      },
      "source": [
        "### 變數 = input([提示字串])\n",
        "  * **由`input()`所接收的值最初型態永遠是字串(string)喔！**"
      ]
    },
    {
      "cell_type": "code",
      "metadata": {
        "id": "IXleykGla7dC",
        "colab": {
          "base_uri": "https://localhost:8080/"
        },
        "outputId": "f1db3f1b-fe79-4d52-a689-cbf7ecd8b88d"
      },
      "source": [
        "score = input(\"請輸入國文成績:\")\n",
        "print(score)\n",
        "print(\"你的國文分數是：\" + score)"
      ],
      "execution_count": null,
      "outputs": [
        {
          "output_type": "stream",
          "name": "stdout",
          "text": [
            "請輸入國文成績:12\n",
            "12\n",
            "你的國文分數是：12\n"
          ]
        }
      ]
    },
    {
      "cell_type": "code",
      "metadata": {
        "id": "m7FGVywoa7dD",
        "colab": {
          "base_uri": "https://localhost:8080/"
        },
        "outputId": "56add9c7-0029-4032-c93d-333b42f27406"
      },
      "source": [
        "#資料型態錯誤\n",
        "scoreA = input(\"請輸入國文成績:\")\n",
        "scoreB = input(\"請輸入英文成績:\")\n",
        "scoreC = input(\"請輸入數學成績:\")\n",
        "total = scoreA + scoreB + scoreC\n",
        "print(total)\n",
        "print(\"你的總分數是：\" + total)"
      ],
      "execution_count": null,
      "outputs": [
        {
          "output_type": "stream",
          "name": "stdout",
          "text": [
            "請輸入國文成績:11\n",
            "請輸入英文成績:22\n",
            "請輸入數學成績:33\n",
            "112233\n",
            "你的總分數是：112233\n"
          ]
        }
      ]
    },
    {
      "cell_type": "code",
      "metadata": {
        "id": "GEl5ry2Ya7dD",
        "colab": {
          "base_uri": "https://localhost:8080/"
        },
        "outputId": "0c6a03d3-6f6c-477a-e369-e48c139d1658"
      },
      "source": [
        "#使用 int(), str()\n",
        "scoreA = int(input(\"請輸入國文成績:\"))\n",
        "scoreB = int(input(\"請輸入英文成績:\"))\n",
        "scoreC = int(input(\"請輸入數學成績:\"))\n",
        "total = str(scoreA + scoreB + scoreC)\n",
        "print(total)\n",
        "print(\"你的總分數是：\" + total)"
      ],
      "execution_count": null,
      "outputs": [
        {
          "output_type": "stream",
          "name": "stdout",
          "text": [
            "請輸入國文成績:33\n",
            "請輸入英文成績:24\n",
            "請輸入數學成績:33\n",
            "90\n",
            "你的總分數是：90\n"
          ]
        }
      ]
    },
    {
      "cell_type": "markdown",
      "metadata": {
        "id": "c_KTYJ3Ua7dE"
      },
      "source": [
        "# 四、運算子"
      ]
    },
    {
      "cell_type": "markdown",
      "source": [
        "### 算數類型\n",
        "  * 算術運算子：  \n",
        "    * `+`：兩運算子相加，`12+3=15`\n",
        "    * `-`：兩運算子相減，`12-3=9`\n",
        "    * `*`：兩運算子相乘，`12*3=36`\n",
        "    * `/`：兩運算子相除，`32/5=6.4`\n",
        "    * `%`：取得餘數，`32%5=2`\n",
        "    * `//`：取的整數的商數，`32//5=6`\n",
        "    * `**`：(運算單元1)的(運算單元2)的次方，`4**2=8, 4**0.5=2`\n",
        "    * `/, %, //`：與除法有關，第二個運算單元不可為0，否則會出現`ZeroDivisionError: division by zero`的錯誤 \n",
        "\n",
        "  * 比較運算子：比較兩邊的值，回傳(return)為布林值(bool)：`True, False`  \n",
        "    * `==`：運算式1是否**等於**運算式2\n",
        "    * `!=`：運算式1是否**不等於**運算式2\n",
        "    * `>`：運算式1是否**大於**運算式2\n",
        "    * `<`：運算式1是否**小於**運算式2\n",
        "    * `>=`：運算式1是否**大於或等於**運算式2\n",
        "    * `<=`：運算式1是否**小於或等於**運算式2\n",
        "\n",
        "  * 邏輯運算子：結合多個運算式來綜合比較，最終得出結果`True, False`  \n",
        "    * `not`：**回傳與原來比較結果相反的值**  \n",
        "  `not(1>5)→True; not(10>7)→False`\n",
        "    * `and`：兩運算元的比較結果皆為`True`時，才會回傳`True`，其實情況皆回傳`False`**(有一假即為假)**    \n",
        "    `(1<5) and (10>7)→True`  \n",
        "    `(1<5) and (10<7)→False` \n",
        "    `(1>5) and (10>7)→False`  \n",
        "    `(1>5) and (10<7)→False`\n",
        "    * `or`：兩運算元的比較結果皆為`False`時，才會回傳`False`，其餘情況皆回傳`True`**(有一真即為真)**  \n",
        "    `(1<5) and (10>7)→True`  \n",
        "    `(1<5) and (10<7)→True` \n",
        "    `(1>5) and (10>7)→True`  \n",
        "    `(1>5) and (10<7)→False`\n",
        "\n",
        "  * 複合指定運算子：  \n",
        "    `+=、-=、*=、/=、%=(餘數)、//=(商)、**=(指數)`\n"
      ],
      "metadata": {
        "id": "Fw7mA91YdCpT"
      }
    },
    {
      "cell_type": "code",
      "metadata": {
        "id": "Z8xv1fyka7dE"
      },
      "source": [
        "# 數值運算\n",
        "a = 5\n",
        "b = 2\n",
        "print(a / b)  #除\n",
        "print(a % b)  #餘數\n",
        "print(a // b) #商數\n",
        "print(a ** b) #指數"
      ],
      "execution_count": null,
      "outputs": []
    },
    {
      "cell_type": "code",
      "metadata": {
        "id": "Y1LeMNOta7dE"
      },
      "source": [
        "# 字串運算\n",
        "s = \"abcdefg\"\n",
        "print(s*2)\n",
        "\n",
        "'''\n",
        "[]用法\n",
        "在字符串中，0代表第1個字符\n",
        "[1:3]，表示從第1個數到第2個數(不含3)\n",
        "[1:]，表示從第1個數到最後\n",
        "[:1] or [0]，表示0\n",
        "'''\n",
        "print(s[0])\n",
        "print(s[1:3])\n",
        "print(s[:])\n",
        "print(s[1:])\n",
        "print(s[:1])"
      ],
      "execution_count": null,
      "outputs": []
    },
    {
      "cell_type": "code",
      "metadata": {
        "id": "imC3HOzva7dE"
      },
      "source": [
        "# 綜合運算\n",
        "\n",
        "x1 = \"a\"\n",
        "y1 = 3\n",
        "a = x1 * y1 \n",
        "\n",
        "x2 = 6\n",
        "y2 = 3\n",
        "b = x2 ** y2\n",
        "\n",
        "x3 = 5\n",
        "y3 = 2\n",
        "c = x3 / y3\n",
        "\n",
        "x4 = 7\n",
        "y4 = 5\n",
        "d = x4 < y4\n",
        "\n",
        "print(\"a 的值為\", a, \"資料型態是\", type(a))\n",
        "print(\"b 的值為\", b, \"資料型態是\", type(b))\n",
        "print(\"c 的值為\", c, \"資料型態是\", type(c))\n",
        "print(\"d 的值為\", d, \"資料型態是\", type(d))"
      ],
      "execution_count": null,
      "outputs": []
    },
    {
      "cell_type": "markdown",
      "source": [
        "### 運算子運行順序\n",
        "  * 括號→指數→正負號→運算子→比較→布林"
      ],
      "metadata": {
        "id": "hoHJOJY2GAmY"
      }
    },
    {
      "cell_type": "markdown",
      "source": [
        "![python運算執行順序.drawio.png](data:image/png;base64,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)"
      ],
      "metadata": {
        "id": "OQLNtpjEGIub"
      }
    },
    {
      "cell_type": "markdown",
      "source": [
        "## 練習題"
      ],
      "metadata": {
        "id": "uL7yOVmVMSOL"
      }
    },
    {
      "cell_type": "markdown",
      "source": [
        "### 習題1\n",
        "溫度轉換器，輸入攝氏溫度，自動換算成華氏溫度"
      ],
      "metadata": {
        "id": "DLD53gIwMUpe"
      }
    },
    {
      "cell_type": "code",
      "source": [
        "Celsius = input('請輸入攝氏溫度:')\n",
        "Fahrenheit = float(Celsius)*(9/5)+32 #input輸入資料類型為str，需轉換成flaot才可運算\n",
        "print('攝氏' + str(Celsius) + '度等於華氏' + str(Fahrenheit) + '度')\n",
        "#經過除法運算的值，會自動轉換成浮點數，故輸出時需再轉換成字串形式"
      ],
      "metadata": {
        "id": "uqoQidmFWBMg"
      },
      "execution_count": null,
      "outputs": []
    },
    {
      "cell_type": "markdown",
      "source": [
        "### 習題2\n",
        "BMI計算器，輸入身高(cm)及體重(kg)，自動計算BMI值，並判斷測量結果"
      ],
      "metadata": {
        "id": "dMdg7y7ZMbG0"
      }
    },
    {
      "cell_type": "code",
      "source": [
        "height_cm = input('請輸入身高為幾公分:')\n",
        "weight = input('請輸入體重為幾公斤:')\n",
        "height_m = float(height_cm)/100\n",
        "BMI = float(weight) / height_m**2\n",
        "\n",
        "if(BMI < 18.5):\n",
        "  print(BMI,'體重過輕')\n",
        "elif(18.5 <= BMI < 24):\n",
        "  print(BMI,'體重正常')\n",
        "elif(24 <= BMI < 27):\n",
        "  print(BMI,'體重過重')\n",
        "elif(27 <= BMI < 30):\n",
        "  print(BMI,'輕度肥胖')\n",
        "elif(30 <= BMI < 35):\n",
        "  print(BMI,'中度肥胖')\n",
        "else:\n",
        "  print(BMI,'重度肥胖') "
      ],
      "metadata": {
        "id": "4WzhsAx4Xf__"
      },
      "execution_count": null,
      "outputs": []
    },
    {
      "cell_type": "markdown",
      "source": [
        "# 五、判斷式"
      ],
      "metadata": {
        "id": "kUUEadZTs4qz"
      }
    },
    {
      "cell_type": "markdown",
      "source": [
        "  * **縮排方式Tab鍵**  ![](https://th.bing.com/th/id/R.cea54e3a681480983c833ce478ca5aa1?rik=3dUlQ4g3J8YVxA&riu=http%3a%2f%2fce.fhl.net%2felderpc%2ftabdot05.jpg&ehk=f6oy7E9BRRIC35Gv8CjY9OscHqyTgneyqOqs4tdzzvA%3d&risl=&pid=ImgRaw&r=0)\n",
        "  * 判斷式中`:`冒號十分重要     \n",
        "  `if:`  \n",
        "  `elif:`  \n",
        "  `else:`"
      ],
      "metadata": {
        "id": "cG-FtKNIwYeR"
      }
    },
    {
      "cell_type": "markdown",
      "metadata": {
        "id": "pEKULHXma7dF"
      },
      "source": [
        "\n",
        "## 單向判斷式(if)\n",
        "  * 當條件式if成立(True)時，就會執行該程式代碼，當不成立(False)時，則直接跳過(如下圖)"
      ]
    },
    {
      "cell_type": "markdown",
      "source": [
        "![單向判斷式.drawio.png](data:image/png;base64,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)"
      ],
      "metadata": {
        "id": "CSQNFXqmryFU"
      }
    },
    {
      "cell_type": "code",
      "metadata": {
        "id": "MW0TW009a7dF"
      },
      "source": [
        "score = int(input(\"請輸入你的分數：\"))\n",
        "if score >= 60:\n",
        "    print(\"恭禧你及格了！\")\n",
        "print(\"再接再厲\")"
      ],
      "execution_count": null,
      "outputs": []
    },
    {
      "cell_type": "markdown",
      "metadata": {
        "id": "iHrVCb78a7dG"
      },
      "source": [
        "## 雙向判斷式(if...else)\n",
        "  * 當條件式if成立(True)時，就會執行該程式代碼，當不成立(False)時，則執行else的程式代碼(如下圖)\n",
        "  * **代碼可以是1行或者多行代碼**"
      ]
    },
    {
      "cell_type": "markdown",
      "source": [
        "![雙向判斷式.drawio.png](data:image/png;base64,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)"
      ],
      "metadata": {
        "id": "qd4xaRRBtuT2"
      }
    },
    {
      "cell_type": "code",
      "metadata": {
        "id": "iwjenSGLa7dG"
      },
      "source": [
        "score = int(input(\"請輸入你的分數：\"))\n",
        "if score >= 60:\n",
        "    print(\"恭禧你及格了！\")\n",
        "else:\n",
        "    print(\"天啊，你被當了！\")    "
      ],
      "execution_count": null,
      "outputs": []
    },
    {
      "cell_type": "markdown",
      "metadata": {
        "id": "PvlkZ7_oa7dG"
      },
      "source": [
        "## 多向判斷式(if...elif...else)\n",
        "  * 條件式成立(True)時，就會執行該程式代碼(if, elif)，當所有條件式都不成立(False)時，則執行else的程式代碼；若省略else，則當條件式都為False時，將不執行任何該區塊內程式代碼(如下圖)"
      ]
    },
    {
      "cell_type": "markdown",
      "source": [
        "![多向判斷式.drawio.png](data:image/png;base64,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)"
      ],
      "metadata": {
        "id": "pvYqLUm2upYP"
      }
    },
    {
      "cell_type": "code",
      "metadata": {
        "id": "dmmFdK5xa7dH"
      },
      "source": [
        "score = int(input(\"請輸入你的分數：\"))\n",
        "if score >= 90:\n",
        "    print(\"甲等\")\n",
        "elif score >= 80:\n",
        "    print(\"乙等\")    \n",
        "elif score >= 70:\n",
        "    print(\"丙等\")    \n",
        "elif score >= 60:\n",
        "    print(\"丁等\")        \n",
        "else:\n",
        "    print(\"你被當了！\")"
      ],
      "execution_count": null,
      "outputs": []
    },
    {
      "cell_type": "markdown",
      "source": [
        "## 巢狀判斷式\n",
        "  * 為一**多層/多迴圈**判斷式，須注意**層數/迴圈數**太多會降低代碼可讀性及維護上難度會增大"
      ],
      "metadata": {
        "id": "lbGMcxVY-EsP"
      }
    },
    {
      "cell_type": "code",
      "source": [
        "# 範例\n",
        "# 題目：家O福周年慶，滿1千享9折優惠，滿2千85折，滿3千8折，滿4千75折\n",
        "\n",
        "money = int(input('請輸入消費金額:'))\n",
        "if money >= 1000: #消費滿1千，進入折扣迴圈\n",
        "  if money >= 4000:\n",
        "    print(str(money * 0.75), end='元\\n') #75折\n",
        "  elif money >= 3000:\n",
        "    print(str(money * 0.8), end='元\\n') #8折\n",
        "  elif money >= 2000:\n",
        "    print(str(money * 0.85), end='元\\n') #85折\n",
        "  else:\n",
        "    print(str(money * 0.9), end='元\\n') #9折\n",
        "else: #若省略此else，則下行代碼不可縮排\n",
        "  print(str(money), end='元\\n') #無折扣"
      ],
      "metadata": {
        "colab": {
          "base_uri": "https://localhost:8080/"
        },
        "id": "ZcSlf9ly-Z5u",
        "outputId": "e986e18a-d91b-403d-f91c-b5bfd9242a45"
      },
      "execution_count": null,
      "outputs": [
        {
          "output_type": "stream",
          "name": "stdout",
          "text": [
            "請輸入消費金額:800\n",
            "800元\n"
          ]
        }
      ]
    },
    {
      "cell_type": "markdown",
      "source": [
        "## 練習題"
      ],
      "metadata": {
        "id": "QQrogzC_BfmW"
      }
    },
    {
      "cell_type": "markdown",
      "source": [
        "### 習題1  \n",
        "  Please design an \"input\" interface, after the user inputs a number, the system judges and print \"odd\" or \"even\""
      ],
      "metadata": {
        "id": "QeYMXZkVDgFX"
      }
    },
    {
      "cell_type": "code",
      "source": [
        "number = int(input('Please input the number:'))\n",
        "if number % 2 == 0: # %為取得餘數，若輸入數字為偶數，應可被2整除\n",
        "  print('The number is even')\n",
        "else:\n",
        "  print('The number is odd') "
      ],
      "metadata": {
        "id": "YQO0d61-BkHa"
      },
      "execution_count": null,
      "outputs": []
    },
    {
      "cell_type": "markdown",
      "source": [
        "### 習題2\n",
        "Please design an \"input\" interface, the user inputs the year, the system judges and print whether it is a 'leap year' or an 'ordinary year'"
      ],
      "metadata": {
        "id": "IV24sd9GDqnB"
      }
    },
    {
      "cell_type": "code",
      "source": [
        "year = int(input('Please input the years:'))\n",
        "if year % 4 == 0: # 假設除以4能整除\n",
        "  if year % 100 == 0:  # 假設能被4及100整除\n",
        "    if year % 400 == 0: # 假設能被4和100和400整除，就是閏年\n",
        "        print(str(year), 'is leap year')\n",
        "    else:\n",
        "        print(str(year), 'is ordianry year') #被4及100整除\n",
        "  else:\n",
        "    print(str(year), 'is leap year') #僅被4整除\n",
        "else:\n",
        "  print(str(year), 'is ordianry year') #無法被4整除"
      ],
      "metadata": {
        "id": "rSkegyiBDc4C"
      },
      "execution_count": null,
      "outputs": []
    },
    {
      "cell_type": "markdown",
      "source": [
        "# 六、自訂函式\n",
        "  * 在大型程式中，通常會將具特定功能或經常重複使用的代碼，撰寫成獨立程序，稱之為【函式】，並賦予函式名稱，使其在程式需要時，即可呼叫函式並運行\n",
        "\n",
        "  * 好處：\n",
        "    * 利於團隊分工，縮短程式開發時間\n",
        "    * 縮短程式長度，代碼也可重複使用\n",
        "    * 代碼可讀性高，利於維護"
      ],
      "metadata": {
        "id": "EtP55attMFd3"
      }
    },
    {
      "cell_type": "markdown",
      "metadata": {
        "id": "a2XkEYAOa7dH"
      },
      "source": [
        "## 語法(def)\n",
        "    def 建立一函式名稱([參數1, 參數2, ……]):\n",
        "        程式區塊\n",
        "        [return 回傳值1, 回傳值2, ……]"
      ]
    },
    {
      "cell_type": "code",
      "metadata": {
        "id": "AEOWg3Rca7dH"
      },
      "source": [
        "# 建立名稱為 SayHello() 的函式，無回傳值\n",
        "\n",
        "def SayHello():\n",
        "  print( \"Hello\")\n",
        "\n",
        "SayHello()"
      ],
      "execution_count": null,
      "outputs": []
    },
    {
      "cell_type": "code",
      "metadata": {
        "id": "YcS58qsLa7dH"
      },
      "source": [
        "# 建立名稱為 GetArea() 的函式，以參數傳入矩形的寬及高，計算矩形面積後將面積值傳回。\n",
        "\n",
        "def GetArea(width, height):\n",
        "    area = width * height\n",
        "    return area\n",
        "\n",
        "print(GetArea(5, 4))"
      ],
      "execution_count": null,
      "outputs": []
    },
    {
      "cell_type": "markdown",
      "source": [
        "## 不定數目參數函式\n",
        "```\n",
        "def 建立一函式名稱(*參數):  \n",
        "  ......\n",
        "```"
      ],
      "metadata": {
        "id": "3ColRVNhTyb3"
      }
    },
    {
      "cell_type": "markdown",
      "source": [
        "\n",
        "```\n",
        "def func1(*area):\n",
        "  ......\n",
        "```\n",
        "* Python會以元組的方式將參數存放在area中，設計者以調用元組的方式取得參數\n"
      ],
      "metadata": {
        "id": "XcmSsNZiVGTy"
      }
    },
    {
      "cell_type": "markdown",
      "source": [
        "## 練習題"
      ],
      "metadata": {
        "id": "kX6ZVJY-Pua-"
      }
    },
    {
      "cell_type": "markdown",
      "source": [
        "### 習題1\n",
        "  建立自訂函式溫度轉換器"
      ],
      "metadata": {
        "id": "275cofOFPx6m"
      }
    },
    {
      "cell_type": "code",
      "source": [
        "def CTtoFC(c):\n",
        "  f = c * 1.8 + 32\n",
        "  return f\n",
        "\n",
        "TC = float(input('請輸入攝氏溫度:'))\n",
        "print('攝氏', TC, '度等於華氏', CTtoFC(TC), '度') #呼叫函式，並將input數值代入函式後輸出結果"
      ],
      "metadata": {
        "id": "AqJUi8DwP4eP"
      },
      "execution_count": null,
      "outputs": []
    },
    {
      "cell_type": "markdown",
      "source": [
        "### 習題2\n",
        "使用`def`建立函式用於計算數值總和"
      ],
      "metadata": {
        "id": "JGSAZWo4VjYk"
      }
    },
    {
      "cell_type": "code",
      "source": [
        "def calsum(*params):\n",
        "  total = 0\n",
        "  for param in params:\n",
        "    total = total + param #也可寫成total += param\n",
        "  return total\n",
        "\n",
        "print('不定數目範例:')\n",
        "print('2個參數: calsum(4,5)=', calsum(4,5))\n",
        "print('4個參數: calsum(4,5,8,9)=', calsum(4,5,8,9))\n",
        "print('6個參數: calsum(4,5,8,9,12,16)=', calsum(4,5,8,9,12,16))"
      ],
      "metadata": {
        "id": "O_LXsypqVolf"
      },
      "execution_count": null,
      "outputs": []
    },
    {
      "cell_type": "markdown",
      "source": [
        "# 七、串列(list)\n",
        "  * 一種集合物件，又稱為【清單】、【列表】，與其他語言的**陣列(Array)**相同\n",
        "  * 針對多筆相同資料，如一個班級每位學生的成績，單靠變數往往需宣告大量的資料，透過串列，則僅需一個變數即可儲存所有學生的成績\n",
        "\n",
        "```\n",
        "#變數，一一宣告\n",
        "x1 = 85, x2 = 86, x3 = 88, x4 = 90\n",
        "\n",
        "#串列\n",
        "x = [85,86,88,90]\n",
        "```\n",
        "  * 串列為透過有順序的方式，以`[元素1,元素2,...]`的方式，將多筆資料儲存在變數中\n",
        "  * 順序/排序方式從`0`開始\n",
        "    * 取單一值`x = [該值排序位置]`\n",
        "    * 取多值`x = [取值位置:結束位置+1]`\n",
        "    * 取間隔值`x = [取值位置:結束位置+1:間隔數]`\n",
        "    * 取全部數`x = [:]`\n",
        "    * 從特定位置到最後`x = [取值位置:]`\n",
        "    * 從最初到特定位置`x = [:最後位置]`\n",
        "    * 只取串列最後一值`x = [-1]`\n",
        "    * 取倒數第二值`x = [-2]`\n",
        "    * 後續以此類推\n",
        "  * `[元素1,元素2,...]`的資料型態，可為同一型態，亦可不同型態\n",
        "\n",
        "\n",
        "```\n",
        "name = ['david', 'claire', 'tom'] #均為字串\n",
        "score = [45, 60, 77] # 均為數字\n",
        "gary = ['student', 18, True] # 多種資料型態\n",
        "```\n",
        "\n"
      ],
      "metadata": {
        "id": "kuHIIMoz4ouL"
      }
    },
    {
      "cell_type": "markdown",
      "source": [
        "### 習題1\n",
        "  *有一串列數值為[1,2,3,4,5,6,7,8,9]，請嘗試輸出[9,8,7,6,5,4,3,2,1]"
      ],
      "metadata": {
        "id": "yUMN4wbm7b0H"
      }
    },
    {
      "cell_type": "code",
      "source": [
        "x = [1,2,3,4,5,6,7,8,9]\n",
        "x[::-1] #不給前後值使其全部納入，間隔值為-1使其倒著算"
      ],
      "metadata": {
        "colab": {
          "base_uri": "https://localhost:8080/"
        },
        "id": "BMMrDVBg7axX",
        "outputId": "5a6dddf4-6892-44a4-a073-4cda50f11334"
      },
      "execution_count": null,
      "outputs": [
        {
          "output_type": "execute_result",
          "data": {
            "text/plain": [
              "[9, 8, 7, 6, 5, 4, 3, 2, 1]"
            ]
          },
          "metadata": {},
          "execution_count": 9
        }
      ]
    },
    {
      "cell_type": "markdown",
      "metadata": {
        "id": "VzsDkCeJa7dI"
      },
      "source": [
        "## 整數串列(range)\n",
        "    range(終止值)\n",
        "    range(起始值, 終止值, 間隔值)\n",
        "*產生的串列是起始值到「終止值 - 1」的串列"
      ]
    },
    {
      "cell_type": "code",
      "metadata": {
        "id": "e01AsyhHa7dI"
      },
      "source": [
        "list1 = range(5)        #[0,1,2,3,4]\n",
        "list2 = range(3, 8)     #[3,4,5,6,7]\n",
        "list3 = range(3, 8, 2)  #[3,5,7] 元素值每次增加2\n",
        "list4 = range(8, 3, -1) #[8,7,6,5,4] 間隔值可以是負值\n",
        "#list(list1)"
      ],
      "execution_count": null,
      "outputs": []
    },
    {
      "cell_type": "markdown",
      "source": [
        "# 八、迴圈"
      ],
      "metadata": {
        "id": "Mi723R4V93YP"
      }
    },
    {
      "cell_type": "markdown",
      "metadata": {
        "id": "X26tbqyZa7dJ"
      },
      "source": [
        "## for list\n",
        "```\n",
        "for 自訂變數 in 串列名稱:\t\n",
        "\t程式區塊\n",
        "```"
      ]
    },
    {
      "cell_type": "code",
      "metadata": {
        "id": "611_iSkCa7dJ",
        "colab": {
          "base_uri": "https://localhost:8080/"
        },
        "outputId": "f4ff2e8d-6167-4c75-afe6-0168de26fd11"
      },
      "source": [
        "# for list\n",
        "fruits = [\"香蕉\", \"蘋果\", \"橘子\"]\n",
        "for fruit in fruits:\n",
        "  #print(fruit) # 分行輸出結果\n",
        "  print(fruit, end=\" \") #以每筆資料以空格輸出成同一行"
      ],
      "execution_count": null,
      "outputs": [
        {
          "output_type": "stream",
          "name": "stdout",
          "text": [
            "香蕉 蘋果 橘子 "
          ]
        }
      ]
    },
    {
      "cell_type": "markdown",
      "source": [
        "### 習題2\n",
        "  * 有一串列(list)[1,2,3,4,5,6,7,8,9,10]，請使用for list迴圈計算1+2+...+10之和為多少"
      ],
      "metadata": {
        "id": "fEKfH5dxAEKV"
      }
    },
    {
      "cell_type": "code",
      "metadata": {
        "id": "_adFzCW-a7dJ",
        "colab": {
          "base_uri": "https://localhost:8080/"
        },
        "outputId": "e40ef035-1852-4f7a-af96-fd91ed7181e1"
      },
      "source": [
        "list = [1,2,3,4,5,6,7,8,9,10]\n",
        "sum = 0\n",
        "for number in list:\n",
        "  sum = sum + number\n",
        "print(sum) #脫離迴圈，輸出最後結果"
      ],
      "execution_count": null,
      "outputs": [
        {
          "output_type": "stream",
          "name": "stdout",
          "text": [
            "55\n"
          ]
        }
      ]
    },
    {
      "cell_type": "markdown",
      "source": [
        "## for range"
      ],
      "metadata": {
        "id": "TKbKY21iZ_JU"
      }
    },
    {
      "cell_type": "markdown",
      "source": [
        "### 習題3\n",
        "  * 請使用for range迴圈計算1+2+...+10之和為多少"
      ],
      "metadata": {
        "id": "w13pDs_1CH8y"
      }
    },
    {
      "cell_type": "code",
      "source": [
        "# for range\n",
        "sum = 0\n",
        "for number in range(11): #range表示1-10不含11的數字\n",
        "  sum = sum + number\n",
        "print(sum)"
      ],
      "metadata": {
        "colab": {
          "base_uri": "https://localhost:8080/"
        },
        "id": "woWXY1JpCHfK",
        "outputId": "d7c8502e-80b9-42ba-d93b-dcb92f844129"
      },
      "execution_count": null,
      "outputs": [
        {
          "output_type": "stream",
          "name": "stdout",
          "text": [
            "55\n"
          ]
        }
      ]
    },
    {
      "cell_type": "markdown",
      "source": [
        "### 習題4\n",
        "  * 請使用for range迴圈及判斷式if來計算1+2+...+10之中奇數值和為多少"
      ],
      "metadata": {
        "id": "ur0oxWKdCzrT"
      }
    },
    {
      "cell_type": "code",
      "source": [
        "# for range\n",
        "sum = 0\n",
        "for number in range(11):\n",
        "  if number % 2 != 0: #判斷代入的數值除以2是否不為0，若不為0則為奇數\n",
        "    sum = sum + number\n",
        "print(sum)"
      ],
      "metadata": {
        "colab": {
          "base_uri": "https://localhost:8080/"
        },
        "id": "CbeS5cDhC6np",
        "outputId": "13a52ea5-33e6-4795-8299-405ff2124000"
      },
      "execution_count": null,
      "outputs": [
        {
          "output_type": "stream",
          "name": "stdout",
          "text": [
            "25\n"
          ]
        }
      ]
    },
    {
      "cell_type": "markdown",
      "source": [
        "### 習題5\n",
        "  * 有一串列(list)，請使用for range取得串列值"
      ],
      "metadata": {
        "id": "JJF5gqCqFVlI"
      }
    },
    {
      "cell_type": "code",
      "source": [
        "# for range進階\n",
        "fruits = [\"香蕉\", \"蘋果\", \"橘子\",\"西瓜\",\"百香果\"]\n",
        "\n",
        "for i in range(3):\n",
        "  print(fruits[i]) #使用索引值i調用fruits前三筆資料"
      ],
      "metadata": {
        "colab": {
          "base_uri": "https://localhost:8080/"
        },
        "id": "oVeDc_ekFowO",
        "outputId": "59ef3cf0-63a9-4e23-f017-2d6fbc7494af"
      },
      "execution_count": null,
      "outputs": [
        {
          "output_type": "stream",
          "name": "stdout",
          "text": [
            "香蕉\n",
            "蘋果\n",
            "橘子\n"
          ]
        }
      ]
    },
    {
      "cell_type": "markdown",
      "metadata": {
        "id": "i4v3lbBAa7dJ"
      },
      "source": [
        "## while 迴圈\n",
        "while 迴圈用於執行次數不固定的迴圈。\n",
        "\n",
        "    while 條件式: \t\n",
        "\t  程式區塊"
      ]
    },
    {
      "cell_type": "markdown",
      "source": [
        "### 習題1\n",
        "  *使用while迴圈計算1到10之和"
      ],
      "metadata": {
        "id": "M8YPZ9mLbm7z"
      }
    },
    {
      "cell_type": "code",
      "metadata": {
        "id": "obxcTgBOa7dK",
        "colab": {
          "base_uri": "https://localhost:8080/"
        },
        "outputId": "32a4bfd8-bf6a-48b1-ca62-caeb9c013ce7"
      },
      "source": [
        "n = 1 #計次\n",
        "total = 0 #計和\n",
        "while n <= 10:\n",
        "  total = total + n \n",
        "  n = n + 1\n",
        "print(total)"
      ],
      "execution_count": null,
      "outputs": [
        {
          "output_type": "stream",
          "name": "stdout",
          "text": [
            "55\n"
          ]
        }
      ]
    },
    {
      "cell_type": "markdown",
      "source": [
        "### 習題2\n",
        "  *使用while迴圈計算1到10之偶數和"
      ],
      "metadata": {
        "id": "BsFMKM6gbtGH"
      }
    },
    {
      "cell_type": "code",
      "metadata": {
        "colab": {
          "base_uri": "https://localhost:8080/"
        },
        "outputId": "97990da6-59ac-40bf-921f-3b4ca54506f8",
        "id": "vuq3U2zCbmPW"
      },
      "source": [
        "n = 1 #計次\n",
        "total = 0 #計和\n",
        "while n <= 10:\n",
        "  if n % 2 == 0:\n",
        "    total = total + n \n",
        "  n = n + 1\n",
        "print(total)"
      ],
      "execution_count": null,
      "outputs": [
        {
          "output_type": "stream",
          "name": "stdout",
          "text": [
            "30\n"
          ]
        }
      ]
    },
    {
      "cell_type": "markdown",
      "source": [
        "### 習題3\n",
        "  * 使用while迴圈計算1到1000中為3的倍數及奇數之和"
      ],
      "metadata": {
        "id": "E3l0__SudAEZ"
      }
    },
    {
      "cell_type": "code",
      "metadata": {
        "id": "uEGxWMjOdL34"
      },
      "source": [
        "n = 1 #計次\n",
        "total = 0 #計和\n",
        "while n <= 1000:\n",
        "  if n % 3 == 0 and n % 2 != 0: #條件式判斷是否為3的倍數及是否為奇數\n",
        "    total = total + n \n",
        "  n = n + 1\n",
        "print(total)"
      ],
      "execution_count": null,
      "outputs": []
    },
    {
      "cell_type": "markdown",
      "metadata": {
        "id": "-su6uhoFa7dK"
      },
      "source": [
        "## break\n",
        "  * `break` 跳出迴圈\n"
      ]
    },
    {
      "cell_type": "code",
      "source": [
        "for i in range(1,11):\n",
        "    if i == 4:\n",
        "      break       # 當迴圈數到4時，跳出該迴圈\n",
        "    print(i, end=\",\")"
      ],
      "metadata": {
        "colab": {
          "base_uri": "https://localhost:8080/"
        },
        "id": "66jj2q3wfK6V",
        "outputId": "174a9f1b-5557-4bb7-a662-afb3ba03c4fc"
      },
      "execution_count": null,
      "outputs": [
        {
          "output_type": "stream",
          "name": "stdout",
          "text": [
            "1,2,3,"
          ]
        }
      ]
    },
    {
      "cell_type": "markdown",
      "source": [
        "## continue\n",
        "  * `continue` 在迴圈執行中途暫停不往下執行，而跳到迴圈起始處繼續執行"
      ],
      "metadata": {
        "id": "p3HXFbJCfQFf"
      }
    },
    {
      "cell_type": "code",
      "metadata": {
        "id": "_loaIU7Ja7dK",
        "colab": {
          "base_uri": "https://localhost:8080/"
        },
        "outputId": "df12035a-c5a7-4418-b480-0c11f6a20e1b"
      },
      "source": [
        "#continue範例\n",
        "for i in range(1,11):\n",
        "    if i == 4:\n",
        "      continue     # 當迴圈數到4時，跳過4但不離開迴圈，繼續到range結束\n",
        "    print(i, end=\",\")"
      ],
      "execution_count": null,
      "outputs": [
        {
          "output_type": "stream",
          "name": "stdout",
          "text": [
            "1,2,3,5,6,7,8,9,10,"
          ]
        }
      ]
    },
    {
      "cell_type": "markdown",
      "source": [
        "### 習題1\n",
        "  * 使用迴圈，繪製出一份9*9乘法表"
      ],
      "metadata": {
        "id": "XnUY8iWTghw8"
      }
    },
    {
      "cell_type": "code",
      "source": [
        "#寫法一\n",
        "for i in range(1,10):\n",
        "  for j in range(1,10):\n",
        "    print('{} * {} = {:2}'.format(i,j,i*j))\n",
        "  print('-'*10) # 字串'-'乘以10次，字串乘法為連接在一起"
      ],
      "metadata": {
        "id": "rcRhz6yCgpnm"
      },
      "execution_count": null,
      "outputs": []
    },
    {
      "cell_type": "code",
      "source": [
        "#寫法二\n",
        "for i in range(1,10):\n",
        "  for j in range(1,10):\n",
        "    print('{} * {} = {:2}'.format(i,j,i*j), end=\"  \")\n",
        "  print() #print() == print(end='\\n')"
      ],
      "metadata": {
        "id": "Yt5_brYDxFB3"
      },
      "execution_count": null,
      "outputs": []
    },
    {
      "cell_type": "markdown",
      "source": [
        "### 習題2\n",
        "  * 使用迴圈，繪製出以下圖片  \n",
        "\n",
        "```\n",
        "*\n",
        "***\n",
        "*****\n",
        "*******\n",
        "*********\n",
        "```"
      ],
      "metadata": {
        "id": "cdJrnYMcgp4o"
      }
    },
    {
      "cell_type": "code",
      "source": [
        "# 題目為1,3,5,7,9的運算，但數字需改成符號'*'\n",
        "for i in range(1,10,2):\n",
        "  print(i * '*') #使用字串概念，讓i乘以*即可得到*的數量"
      ],
      "metadata": {
        "colab": {
          "base_uri": "https://localhost:8080/"
        },
        "id": "eyNjxr4ryiw0",
        "outputId": "512adad4-e810-498f-d953-ba82f5e16188"
      },
      "execution_count": null,
      "outputs": [
        {
          "output_type": "stream",
          "name": "stdout",
          "text": [
            "*\n",
            "***\n",
            "*****\n",
            "*******\n",
            "*********\n"
          ]
        }
      ]
    },
    {
      "cell_type": "markdown",
      "source": [
        "### 習題3\n",
        "  * 使用迴圈，將上題三角形靠右對齊"
      ],
      "metadata": {
        "id": "1K2hGTfe1TGr"
      }
    },
    {
      "cell_type": "code",
      "source": [
        "# 題目為1,3,5,7,9的運算，但數字需改成符號'*'\n",
        "# 輸出時需將符號'*'推至最右側 == 左側填入若干空格符號\n",
        "for i in range(1,10,2):\n",
        "  # print((9-i) * ' ', end='') #end=''使其能跟下行連接在一起\n",
        "  # print(i * '*') #使用字串概念，讓i乘以*即可得到*的數量\n",
        "  print((9-i) * ' ', i * '*') # 合併寫法，需注意end=''此時不需使用"
      ],
      "metadata": {
        "colab": {
          "base_uri": "https://localhost:8080/"
        },
        "outputId": "46b14c45-9336-4375-f37b-a028c69df06c",
        "id": "rXAZOsOI1dfj"
      },
      "execution_count": null,
      "outputs": [
        {
          "output_type": "stream",
          "name": "stdout",
          "text": [
            "         *\n",
            "       ***\n",
            "     *****\n",
            "   *******\n",
            " *********\n"
          ]
        }
      ]
    },
    {
      "cell_type": "markdown",
      "source": [
        "### 習題4\n",
        "  * 使用迴圈，製作等腰三角形"
      ],
      "metadata": {
        "id": "s3-KUONV3LW6"
      }
    },
    {
      "cell_type": "code",
      "source": [
        "#實心等腰三角形\n",
        "def pyramid(n):\n",
        "  for i in range(n+1): #5邊形則需輸入6故設定n+1\n",
        "    # print(i)\n",
        "    print(' '*(n-i) + '*' *(2*i-1))\n",
        "\n",
        "pyramid(5)"
      ],
      "metadata": {
        "colab": {
          "base_uri": "https://localhost:8080/"
        },
        "id": "91A3gxS4hD3w",
        "outputId": "938abbed-7cb4-4423-e611-0fb8601fc366"
      },
      "execution_count": null,
      "outputs": [
        {
          "output_type": "stream",
          "name": "stdout",
          "text": [
            "     \n",
            "    *\n",
            "   ***\n",
            "  *****\n",
            " *******\n",
            "*********\n"
          ]
        }
      ]
    },
    {
      "cell_type": "markdown",
      "source": [
        "### 習題5\n",
        "  *使用format習題2.3進行排序"
      ],
      "metadata": {
        "id": "PmPEGIz18EFS"
      }
    },
    {
      "cell_type": "code",
      "source": [
        "for i in range(1,10,2):\n",
        "  print('{:9}'.format(i * '*')) #正常版，靠左對齊\n",
        "print('-' *10)\n",
        "for i in range(1,10,2):\n",
        "  print('{:>9}'.format(i * '*')) #增加>，使其靠右對齊\n",
        "print('-' *10)\n",
        "for i in range(1,10,2):\n",
        "  print('{:^9}'.format(i * '*')) #增加^，使其居中對齊\n",
        "print('-' *10)"
      ],
      "metadata": {
        "colab": {
          "base_uri": "https://localhost:8080/"
        },
        "id": "UX1bKiMH8Cdp",
        "outputId": "69379f77-b13b-47cd-c3ca-66db45ef0750"
      },
      "execution_count": null,
      "outputs": [
        {
          "output_type": "stream",
          "name": "stdout",
          "text": [
            "*        \n",
            "***      \n",
            "*****    \n",
            "*******  \n",
            "*********\n",
            "----------\n",
            "        *\n",
            "      ***\n",
            "    *****\n",
            "  *******\n",
            "*********\n",
            "----------\n",
            "    *    \n",
            "   ***   \n",
            "  *****  \n",
            " ******* \n",
            "*********\n",
            "----------\n"
          ]
        }
      ]
    },
    {
      "cell_type": "markdown",
      "metadata": {
        "id": "92R5k_lUa7dK"
      },
      "source": [
        "# 九、try…except…else…finally 例外處理\n",
        "\n",
        "### 語法\n",
        "    try:\n",
        "      程式碼A\n",
        "    except[例外狀況]:\n",
        "      程式碼B\n",
        "    ...\n",
        "    else:\n",
        "      程式碼C\n",
        "    finally:\n",
        "      程式碼D\n",
        "\n",
        "### 說明\n",
        "* 程式碼A：try 用來執行並進行例外偵測。\n",
        "* 程式碼B：except 若有發生例外時執行的程式。\n",
        "* 程式碼C：else 若沒有發生例外時執行的程式。\n",
        "* 程式碼D：finally 一定會執行的程式。\n",
        "* except 可設定多種例外狀況。若省略指定即代表一發生例外狀況即執行。\n",
        "* else、finally非必填。"
      ]
    },
    {
      "cell_type": "code",
      "metadata": {
        "id": "D3pUngjwa7dL"
      },
      "source": [
        "a = 11\n",
        "b = 5   # 可更改為 0 或 \"0\" 來觀察\n",
        "try:\n",
        "    print(a / b)\n",
        "except ZeroDivisionError:\n",
        "    print(\"ZeroDivisionError\") \n",
        "# except Exception as e:\n",
        "#     print(e)\n",
        "except:\n",
        "    print(\"except\")\n",
        "else:\n",
        "    print(\"else\")\n",
        "finally:\n",
        "    print(\"finally\")"
      ],
      "execution_count": null,
      "outputs": []
    },
    {
      "cell_type": "markdown",
      "source": [
        "# 十、註解"
      ],
      "metadata": {
        "id": "41yJKRWjZ0gq"
      }
    },
    {
      "cell_type": "markdown",
      "source": [
        "### 單行註解\n",
        "  * 使用**井字號**即可不運行程式、添加註解"
      ],
      "metadata": {
        "id": "oH3YgBUfZ6gr"
      }
    },
    {
      "cell_type": "markdown",
      "source": [
        "### 多行註解\n",
        "  * 於想要註解的代碼上下方，加入**連續3個單引號或雙引號**''' or \"\"\"，即可框選出所要區塊，即可不運行程式、添加註解"
      ],
      "metadata": {
        "id": "bj4wnOKpaQZA"
      }
    },
    {
      "cell_type": "markdown",
      "source": [
        "# 十一、Marldown語法\n",
        "\n"
      ],
      "metadata": {
        "id": "VaV8YCmMx1X2"
      }
    },
    {
      "cell_type": "markdown",
      "source": [
        "  * 一種輕量化標記式語言\n",
        "  * 創始人為John Gruber於2004年與Aaron Hillel Swartz共同創造Markdown語言\n",
        "  * 使用易讀易寫的純文字格式撰寫文件，並可使其轉換成有效的XHTML（或者HTML）文件\n",
        "  * 目前許多網站已使用Markdown來撰寫說明文件，如GitHub、Reddit、Diaspora、Stack Exchange、OpenStreetMap 、SourceForge"
      ],
      "metadata": {
        "id": "Zv8R3yac0uNc"
      }
    },
    {
      "cell_type": "markdown",
      "source": [
        "### 介紹語法\n",
        "\n",
        "# 大標題：# + 空格\n",
        "## 中標題：## + 空格\n",
        "### 小標題：### + 空格\n",
        "\n",
        "1. 數字編號：數字 + 逗點 + 空格\n",
        "* 項目編號：* + 空格\n",
        "\n",
        "程式碼：程式碼前後輸入符號 `  ，將程式碼放於兩符號中間\n",
        "\n",
        "`print('Hello World)`\n",
        "\n",
        "斜體：文字前後填入符號*  \n",
        "粗體：文字前後填入符號**  \n",
        "斜粗體：文字前後填入符號*** \n",
        "\n",
        "文字超連結：`[填入需超連結文字](填入URL)`  \n",
        "插入圖片：`![](填入圖片URL)`  \n",
        "\n",
        "換行：行末 + 空格2次\n"
      ],
      "metadata": {
        "id": "5mqYpvM2yN0H"
      }
    }
  ]
}